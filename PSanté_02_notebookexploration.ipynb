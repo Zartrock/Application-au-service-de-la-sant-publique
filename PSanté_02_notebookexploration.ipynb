{
 "cells": [
  {
   "cell_type": "code",
   "execution_count": 1,
   "id": "05939f5a",
   "metadata": {},
   "outputs": [
    {
     "name": "stderr",
     "output_type": "stream",
     "text": [
      "C:\\Users\\sesa638933\\Anaconda3\\conda\\lib\\site-packages\\IPython\\core\\interactiveshell.py:3165: DtypeWarning: Columns (0) have mixed types.Specify dtype option on import or set low_memory=False.\n",
      "  has_raised = await self.run_ast_nodes(code_ast.body, cell_name,\n"
     ]
    },
    {
     "data": {
      "text/html": [
       "<div>\n",
       "<style scoped>\n",
       "    .dataframe tbody tr th:only-of-type {\n",
       "        vertical-align: middle;\n",
       "    }\n",
       "\n",
       "    .dataframe tbody tr th {\n",
       "        vertical-align: top;\n",
       "    }\n",
       "\n",
       "    .dataframe thead th {\n",
       "        text-align: right;\n",
       "    }\n",
       "</style>\n",
       "<table border=\"1\" class=\"dataframe\">\n",
       "  <thead>\n",
       "    <tr style=\"text-align: right;\">\n",
       "      <th></th>\n",
       "      <th>code</th>\n",
       "      <th>url</th>\n",
       "      <th>product_name</th>\n",
       "      <th>countries_en</th>\n",
       "      <th>ingredients_text</th>\n",
       "      <th>energy-kcal_100g</th>\n",
       "      <th>fat_100g</th>\n",
       "      <th>proteins_100g</th>\n",
       "    </tr>\n",
       "  </thead>\n",
       "  <tbody>\n",
       "    <tr>\n",
       "      <th>0</th>\n",
       "      <td>3429145</td>\n",
       "      <td>http://world-en.openfoodfacts.org/product/0000...</td>\n",
       "      <td>l.casei</td>\n",
       "      <td>spain</td>\n",
       "      <td>leche semidesnatada, azucar 6.9% leche desnata...</td>\n",
       "      <td>NaN</td>\n",
       "      <td>1.4</td>\n",
       "      <td>2.7</td>\n",
       "    </tr>\n",
       "    <tr>\n",
       "      <th>1</th>\n",
       "      <td>100</td>\n",
       "      <td>http://world-en.openfoodfacts.org/product/0000...</td>\n",
       "      <td>moutarde au moût de raisin</td>\n",
       "      <td>france</td>\n",
       "      <td>eau graines de téguments de moutarde vinaigre ...</td>\n",
       "      <td>NaN</td>\n",
       "      <td>8.2</td>\n",
       "      <td>5.1</td>\n",
       "    </tr>\n",
       "    <tr>\n",
       "      <th>2</th>\n",
       "      <td>1199</td>\n",
       "      <td>http://world-en.openfoodfacts.org/product/0000...</td>\n",
       "      <td>solène céréales poulet</td>\n",
       "      <td>france</td>\n",
       "      <td>antioxydant : érythorbate de sodium, colorant ...</td>\n",
       "      <td>219.0</td>\n",
       "      <td>5.9</td>\n",
       "      <td>9.7</td>\n",
       "    </tr>\n",
       "    <tr>\n",
       "      <th>3</th>\n",
       "      <td>1663</td>\n",
       "      <td>http://world-en.openfoodfacts.org/product/0000...</td>\n",
       "      <td>crème dessert chocolat</td>\n",
       "      <td>france</td>\n",
       "      <td>lait entier, sucre, amidon de maïs, cacao, aga...</td>\n",
       "      <td>0.0</td>\n",
       "      <td>0.0</td>\n",
       "      <td>0.0</td>\n",
       "    </tr>\n",
       "    <tr>\n",
       "      <th>4</th>\n",
       "      <td>2264</td>\n",
       "      <td>http://world-en.openfoodfacts.org/product/0000...</td>\n",
       "      <td>baguette poitevin</td>\n",
       "      <td>france</td>\n",
       "      <td>baguette poite vin pain baguette 50,6%: farine...</td>\n",
       "      <td>207.0</td>\n",
       "      <td>6.7</td>\n",
       "      <td>8.9</td>\n",
       "    </tr>\n",
       "  </tbody>\n",
       "</table>\n",
       "</div>"
      ],
      "text/plain": [
       "      code                                                url  \\\n",
       "0  3429145  http://world-en.openfoodfacts.org/product/0000...   \n",
       "1      100  http://world-en.openfoodfacts.org/product/0000...   \n",
       "2     1199  http://world-en.openfoodfacts.org/product/0000...   \n",
       "3     1663  http://world-en.openfoodfacts.org/product/0000...   \n",
       "4     2264  http://world-en.openfoodfacts.org/product/0000...   \n",
       "\n",
       "                   product_name countries_en  \\\n",
       "0                       l.casei        spain   \n",
       "1   moutarde au moût de raisin        france   \n",
       "2        solène céréales poulet       france   \n",
       "3        crème dessert chocolat       france   \n",
       "4             baguette poitevin       france   \n",
       "\n",
       "                                    ingredients_text  energy-kcal_100g  \\\n",
       "0  leche semidesnatada, azucar 6.9% leche desnata...               NaN   \n",
       "1  eau graines de téguments de moutarde vinaigre ...               NaN   \n",
       "2  antioxydant : érythorbate de sodium, colorant ...             219.0   \n",
       "3  lait entier, sucre, amidon de maïs, cacao, aga...               0.0   \n",
       "4  baguette poite vin pain baguette 50,6%: farine...             207.0   \n",
       "\n",
       "   fat_100g  proteins_100g  \n",
       "0       1.4            2.7  \n",
       "1       8.2            5.1  \n",
       "2       5.9            9.7  \n",
       "3       0.0            0.0  \n",
       "4       6.7            8.9  "
      ]
     },
     "execution_count": 1,
     "metadata": {},
     "output_type": "execute_result"
    }
   ],
   "source": [
    "#importation des librairies nécessaires\n",
    "import pandas as pd\n",
    "import numpy as np\n",
    "from scipy.integrate import quad\n",
    "import matplotlib.pyplot as plt\n",
    "import scipy.stats as stats\n",
    "import scipy\n",
    "import seaborn as sns\n",
    "import sklearn as sk\n",
    "from scipy.stats import chi2_contingency\n",
    "import langdetect\n",
    "from langdetect import detect\n",
    "import statsmodels.api as sm\n",
    "from statsmodels.formula.api import ols\n",
    "import researchpy as rp\n",
    "\n",
    "%matplotlib inline\n",
    "\n",
    "\n",
    "\n",
    "\n",
    "#import du dataset\n",
    "df = pd.read_csv(r\"C:\\Users\\sesa638933\\Desktop\\P2_zeff_jonas\\Projet+Python_Dataset_Edstats_csv\\cleaned.csv\", sep=',')\n",
    "\n",
    "\n",
    "df.head()"
   ]
  },
  {
   "cell_type": "markdown",
   "id": "70c80f94",
   "metadata": {},
   "source": [
    "**Filtrer les variables**\n",
    "\n"
   ]
  },
  {
   "cell_type": "code",
   "execution_count": 2,
   "id": "da534a67",
   "metadata": {},
   "outputs": [],
   "source": [
    "#Eliminer les lignes qui ne sont pas parmis celles qui nous intéresse\n",
    "df.drop(df.columns.difference(['code','url','product_name','countries_en','ingredients_text','proteins_100g','energy-kcal_100g','fat_100g']), 1, inplace=True)"
   ]
  },
  {
   "cell_type": "code",
   "execution_count": 3,
   "id": "d08de720",
   "metadata": {},
   "outputs": [
    {
     "data": {
      "text/html": [
       "<div>\n",
       "<style scoped>\n",
       "    .dataframe tbody tr th:only-of-type {\n",
       "        vertical-align: middle;\n",
       "    }\n",
       "\n",
       "    .dataframe tbody tr th {\n",
       "        vertical-align: top;\n",
       "    }\n",
       "\n",
       "    .dataframe thead th {\n",
       "        text-align: right;\n",
       "    }\n",
       "</style>\n",
       "<table border=\"1\" class=\"dataframe\">\n",
       "  <thead>\n",
       "    <tr style=\"text-align: right;\">\n",
       "      <th></th>\n",
       "      <th>code</th>\n",
       "      <th>url</th>\n",
       "      <th>product_name</th>\n",
       "      <th>countries_en</th>\n",
       "      <th>ingredients_text</th>\n",
       "      <th>energy-kcal_100g</th>\n",
       "      <th>fat_100g</th>\n",
       "      <th>proteins_100g</th>\n",
       "    </tr>\n",
       "  </thead>\n",
       "  <tbody>\n",
       "    <tr>\n",
       "      <th>0</th>\n",
       "      <td>3429145</td>\n",
       "      <td>http://world-en.openfoodfacts.org/product/0000...</td>\n",
       "      <td>l.casei</td>\n",
       "      <td>spain</td>\n",
       "      <td>leche semidesnatada, azucar 6.9% leche desnata...</td>\n",
       "      <td>NaN</td>\n",
       "      <td>1.4</td>\n",
       "      <td>2.7</td>\n",
       "    </tr>\n",
       "    <tr>\n",
       "      <th>1</th>\n",
       "      <td>100</td>\n",
       "      <td>http://world-en.openfoodfacts.org/product/0000...</td>\n",
       "      <td>moutarde au moût de raisin</td>\n",
       "      <td>france</td>\n",
       "      <td>eau graines de téguments de moutarde vinaigre ...</td>\n",
       "      <td>NaN</td>\n",
       "      <td>8.2</td>\n",
       "      <td>5.1</td>\n",
       "    </tr>\n",
       "    <tr>\n",
       "      <th>2</th>\n",
       "      <td>1199</td>\n",
       "      <td>http://world-en.openfoodfacts.org/product/0000...</td>\n",
       "      <td>solène céréales poulet</td>\n",
       "      <td>france</td>\n",
       "      <td>antioxydant : érythorbate de sodium, colorant ...</td>\n",
       "      <td>219.0</td>\n",
       "      <td>5.9</td>\n",
       "      <td>9.7</td>\n",
       "    </tr>\n",
       "    <tr>\n",
       "      <th>3</th>\n",
       "      <td>1663</td>\n",
       "      <td>http://world-en.openfoodfacts.org/product/0000...</td>\n",
       "      <td>crème dessert chocolat</td>\n",
       "      <td>france</td>\n",
       "      <td>lait entier, sucre, amidon de maïs, cacao, aga...</td>\n",
       "      <td>0.0</td>\n",
       "      <td>0.0</td>\n",
       "      <td>0.0</td>\n",
       "    </tr>\n",
       "    <tr>\n",
       "      <th>4</th>\n",
       "      <td>2264</td>\n",
       "      <td>http://world-en.openfoodfacts.org/product/0000...</td>\n",
       "      <td>baguette poitevin</td>\n",
       "      <td>france</td>\n",
       "      <td>baguette poite vin pain baguette 50,6%: farine...</td>\n",
       "      <td>207.0</td>\n",
       "      <td>6.7</td>\n",
       "      <td>8.9</td>\n",
       "    </tr>\n",
       "  </tbody>\n",
       "</table>\n",
       "</div>"
      ],
      "text/plain": [
       "      code                                                url  \\\n",
       "0  3429145  http://world-en.openfoodfacts.org/product/0000...   \n",
       "1      100  http://world-en.openfoodfacts.org/product/0000...   \n",
       "2     1199  http://world-en.openfoodfacts.org/product/0000...   \n",
       "3     1663  http://world-en.openfoodfacts.org/product/0000...   \n",
       "4     2264  http://world-en.openfoodfacts.org/product/0000...   \n",
       "\n",
       "                   product_name countries_en  \\\n",
       "0                       l.casei        spain   \n",
       "1   moutarde au moût de raisin        france   \n",
       "2        solène céréales poulet       france   \n",
       "3        crème dessert chocolat       france   \n",
       "4             baguette poitevin       france   \n",
       "\n",
       "                                    ingredients_text  energy-kcal_100g  \\\n",
       "0  leche semidesnatada, azucar 6.9% leche desnata...               NaN   \n",
       "1  eau graines de téguments de moutarde vinaigre ...               NaN   \n",
       "2  antioxydant : érythorbate de sodium, colorant ...             219.0   \n",
       "3  lait entier, sucre, amidon de maïs, cacao, aga...               0.0   \n",
       "4  baguette poite vin pain baguette 50,6%: farine...             207.0   \n",
       "\n",
       "   fat_100g  proteins_100g  \n",
       "0       1.4            2.7  \n",
       "1       8.2            5.1  \n",
       "2       5.9            9.7  \n",
       "3       0.0            0.0  \n",
       "4       6.7            8.9  "
      ]
     },
     "execution_count": 3,
     "metadata": {},
     "output_type": "execute_result"
    }
   ],
   "source": [
    "#vérifier\n",
    "df.head()"
   ]
  },
  {
   "cell_type": "code",
   "execution_count": 4,
   "id": "b056e916",
   "metadata": {},
   "outputs": [],
   "source": [
    "#Eliminer les valeurs na pour les colonnes en question\n",
    "df = df[df['proteins_100g'].notna()]"
   ]
  },
  {
   "cell_type": "code",
   "execution_count": 5,
   "id": "1a0d23df",
   "metadata": {},
   "outputs": [],
   "source": [
    "df = df[df['countries_en'].notna()]"
   ]
  },
  {
   "cell_type": "code",
   "execution_count": 6,
   "id": "765da6b6",
   "metadata": {},
   "outputs": [],
   "source": [
    "df = df[df['fat_100g'].notna()]"
   ]
  },
  {
   "cell_type": "code",
   "execution_count": 7,
   "id": "5235ac9a",
   "metadata": {},
   "outputs": [],
   "source": [
    "df = df[df['ingredients_text'].notna()]"
   ]
  },
  {
   "cell_type": "code",
   "execution_count": 8,
   "id": "dde65eb8",
   "metadata": {},
   "outputs": [
    {
     "data": {
      "text/html": [
       "<div>\n",
       "<style scoped>\n",
       "    .dataframe tbody tr th:only-of-type {\n",
       "        vertical-align: middle;\n",
       "    }\n",
       "\n",
       "    .dataframe tbody tr th {\n",
       "        vertical-align: top;\n",
       "    }\n",
       "\n",
       "    .dataframe thead th {\n",
       "        text-align: right;\n",
       "    }\n",
       "</style>\n",
       "<table border=\"1\" class=\"dataframe\">\n",
       "  <thead>\n",
       "    <tr style=\"text-align: right;\">\n",
       "      <th></th>\n",
       "      <th>code</th>\n",
       "      <th>url</th>\n",
       "      <th>product_name</th>\n",
       "      <th>countries_en</th>\n",
       "      <th>ingredients_text</th>\n",
       "      <th>energy-kcal_100g</th>\n",
       "      <th>fat_100g</th>\n",
       "      <th>proteins_100g</th>\n",
       "    </tr>\n",
       "  </thead>\n",
       "  <tbody>\n",
       "    <tr>\n",
       "      <th>0</th>\n",
       "      <td>3429145</td>\n",
       "      <td>http://world-en.openfoodfacts.org/product/0000...</td>\n",
       "      <td>l.casei</td>\n",
       "      <td>spain</td>\n",
       "      <td>leche semidesnatada, azucar 6.9% leche desnata...</td>\n",
       "      <td>NaN</td>\n",
       "      <td>1.4</td>\n",
       "      <td>2.7</td>\n",
       "    </tr>\n",
       "    <tr>\n",
       "      <th>1</th>\n",
       "      <td>100</td>\n",
       "      <td>http://world-en.openfoodfacts.org/product/0000...</td>\n",
       "      <td>moutarde au moût de raisin</td>\n",
       "      <td>france</td>\n",
       "      <td>eau graines de téguments de moutarde vinaigre ...</td>\n",
       "      <td>NaN</td>\n",
       "      <td>8.2</td>\n",
       "      <td>5.1</td>\n",
       "    </tr>\n",
       "    <tr>\n",
       "      <th>2</th>\n",
       "      <td>1199</td>\n",
       "      <td>http://world-en.openfoodfacts.org/product/0000...</td>\n",
       "      <td>solène céréales poulet</td>\n",
       "      <td>france</td>\n",
       "      <td>antioxydant : érythorbate de sodium, colorant ...</td>\n",
       "      <td>219.0</td>\n",
       "      <td>5.9</td>\n",
       "      <td>9.7</td>\n",
       "    </tr>\n",
       "    <tr>\n",
       "      <th>3</th>\n",
       "      <td>1663</td>\n",
       "      <td>http://world-en.openfoodfacts.org/product/0000...</td>\n",
       "      <td>crème dessert chocolat</td>\n",
       "      <td>france</td>\n",
       "      <td>lait entier, sucre, amidon de maïs, cacao, aga...</td>\n",
       "      <td>0.0</td>\n",
       "      <td>0.0</td>\n",
       "      <td>0.0</td>\n",
       "    </tr>\n",
       "    <tr>\n",
       "      <th>4</th>\n",
       "      <td>2264</td>\n",
       "      <td>http://world-en.openfoodfacts.org/product/0000...</td>\n",
       "      <td>baguette poitevin</td>\n",
       "      <td>france</td>\n",
       "      <td>baguette poite vin pain baguette 50,6%: farine...</td>\n",
       "      <td>207.0</td>\n",
       "      <td>6.7</td>\n",
       "      <td>8.9</td>\n",
       "    </tr>\n",
       "  </tbody>\n",
       "</table>\n",
       "</div>"
      ],
      "text/plain": [
       "      code                                                url  \\\n",
       "0  3429145  http://world-en.openfoodfacts.org/product/0000...   \n",
       "1      100  http://world-en.openfoodfacts.org/product/0000...   \n",
       "2     1199  http://world-en.openfoodfacts.org/product/0000...   \n",
       "3     1663  http://world-en.openfoodfacts.org/product/0000...   \n",
       "4     2264  http://world-en.openfoodfacts.org/product/0000...   \n",
       "\n",
       "                   product_name countries_en  \\\n",
       "0                       l.casei        spain   \n",
       "1   moutarde au moût de raisin        france   \n",
       "2        solène céréales poulet       france   \n",
       "3        crème dessert chocolat       france   \n",
       "4             baguette poitevin       france   \n",
       "\n",
       "                                    ingredients_text  energy-kcal_100g  \\\n",
       "0  leche semidesnatada, azucar 6.9% leche desnata...               NaN   \n",
       "1  eau graines de téguments de moutarde vinaigre ...               NaN   \n",
       "2  antioxydant : érythorbate de sodium, colorant ...             219.0   \n",
       "3  lait entier, sucre, amidon de maïs, cacao, aga...               0.0   \n",
       "4  baguette poite vin pain baguette 50,6%: farine...             207.0   \n",
       "\n",
       "   fat_100g  proteins_100g  \n",
       "0       1.4            2.7  \n",
       "1       8.2            5.1  \n",
       "2       5.9            9.7  \n",
       "3       0.0            0.0  \n",
       "4       6.7            8.9  "
      ]
     },
     "execution_count": 8,
     "metadata": {},
     "output_type": "execute_result"
    }
   ],
   "source": [
    "#vérifier\n",
    "df.head()"
   ]
  },
  {
   "cell_type": "code",
   "execution_count": 9,
   "id": "77848da4",
   "metadata": {},
   "outputs": [],
   "source": [
    "#Eliminer toutes les lignes pour lesquelles la concentration en protéines est inférieure à 20g pour 100g de produit\n",
    "df_prot = df[df.proteins_100g >= 20] "
   ]
  },
  {
   "cell_type": "code",
   "execution_count": 10,
   "id": "0d38bceb",
   "metadata": {},
   "outputs": [
    {
     "data": {
      "text/html": [
       "<div>\n",
       "<style scoped>\n",
       "    .dataframe tbody tr th:only-of-type {\n",
       "        vertical-align: middle;\n",
       "    }\n",
       "\n",
       "    .dataframe tbody tr th {\n",
       "        vertical-align: top;\n",
       "    }\n",
       "\n",
       "    .dataframe thead th {\n",
       "        text-align: right;\n",
       "    }\n",
       "</style>\n",
       "<table border=\"1\" class=\"dataframe\">\n",
       "  <thead>\n",
       "    <tr style=\"text-align: right;\">\n",
       "      <th></th>\n",
       "      <th>code</th>\n",
       "      <th>url</th>\n",
       "      <th>product_name</th>\n",
       "      <th>countries_en</th>\n",
       "      <th>ingredients_text</th>\n",
       "      <th>energy-kcal_100g</th>\n",
       "      <th>fat_100g</th>\n",
       "      <th>proteins_100g</th>\n",
       "    </tr>\n",
       "  </thead>\n",
       "  <tbody>\n",
       "    <tr>\n",
       "      <th>17</th>\n",
       "      <td>16612</td>\n",
       "      <td>http://world-en.openfoodfacts.org/product/0000...</td>\n",
       "      <td>organic adzuki beans</td>\n",
       "      <td>united states</td>\n",
       "      <td>organic adzuki beans</td>\n",
       "      <td>333.0</td>\n",
       "      <td>1.04</td>\n",
       "      <td>22.92</td>\n",
       "    </tr>\n",
       "    <tr>\n",
       "      <th>21</th>\n",
       "      <td>17497</td>\n",
       "      <td>http://world-en.openfoodfacts.org/product/0000...</td>\n",
       "      <td>organic spicy punks</td>\n",
       "      <td>united states</td>\n",
       "      <td>organic dry roasted pumpkin seeds, tamari (soy...</td>\n",
       "      <td>606.0</td>\n",
       "      <td>48.48</td>\n",
       "      <td>30.30</td>\n",
       "    </tr>\n",
       "    <tr>\n",
       "      <th>35</th>\n",
       "      <td>18418</td>\n",
       "      <td>http://world-en.openfoodfacts.org/product/0000...</td>\n",
       "      <td>wasabi tamari almonds</td>\n",
       "      <td>united states</td>\n",
       "      <td>almonds, wasabi spice (salt, rice flour, evapo...</td>\n",
       "      <td>533.0</td>\n",
       "      <td>46.67</td>\n",
       "      <td>20.00</td>\n",
       "    </tr>\n",
       "    <tr>\n",
       "      <th>52</th>\n",
       "      <td>30557</td>\n",
       "      <td>http://world-en.openfoodfacts.org/product/0000...</td>\n",
       "      <td>organic green split peas</td>\n",
       "      <td>united states</td>\n",
       "      <td>organic green split peas</td>\n",
       "      <td>378.0</td>\n",
       "      <td>1.11</td>\n",
       "      <td>28.89</td>\n",
       "    </tr>\n",
       "    <tr>\n",
       "      <th>53</th>\n",
       "      <td>30595</td>\n",
       "      <td>http://world-en.openfoodfacts.org/product/0000...</td>\n",
       "      <td>organic grey-green lentils</td>\n",
       "      <td>united states</td>\n",
       "      <td>organic grey-green lentils</td>\n",
       "      <td>378.0</td>\n",
       "      <td>1.11</td>\n",
       "      <td>28.89</td>\n",
       "    </tr>\n",
       "  </tbody>\n",
       "</table>\n",
       "</div>"
      ],
      "text/plain": [
       "     code                                                url  \\\n",
       "17  16612  http://world-en.openfoodfacts.org/product/0000...   \n",
       "21  17497  http://world-en.openfoodfacts.org/product/0000...   \n",
       "35  18418  http://world-en.openfoodfacts.org/product/0000...   \n",
       "52  30557  http://world-en.openfoodfacts.org/product/0000...   \n",
       "53  30595  http://world-en.openfoodfacts.org/product/0000...   \n",
       "\n",
       "                  product_name   countries_en  \\\n",
       "17        organic adzuki beans  united states   \n",
       "21         organic spicy punks  united states   \n",
       "35       wasabi tamari almonds  united states   \n",
       "52    organic green split peas  united states   \n",
       "53  organic grey-green lentils  united states   \n",
       "\n",
       "                                     ingredients_text  energy-kcal_100g  \\\n",
       "17                               organic adzuki beans             333.0   \n",
       "21  organic dry roasted pumpkin seeds, tamari (soy...             606.0   \n",
       "35  almonds, wasabi spice (salt, rice flour, evapo...             533.0   \n",
       "52                           organic green split peas             378.0   \n",
       "53                         organic grey-green lentils             378.0   \n",
       "\n",
       "    fat_100g  proteins_100g  \n",
       "17      1.04          22.92  \n",
       "21     48.48          30.30  \n",
       "35     46.67          20.00  \n",
       "52      1.11          28.89  \n",
       "53      1.11          28.89  "
      ]
     },
     "execution_count": 10,
     "metadata": {},
     "output_type": "execute_result"
    }
   ],
   "source": [
    "#Changer les valeurs en minuscules\n",
    "df_prot = df_prot.applymap(lambda s: s.lower() if type(s) == str else s)\n",
    "#vérifier\n",
    "df_prot.head()"
   ]
  },
  {
   "cell_type": "code",
   "execution_count": 11,
   "id": "c20527db",
   "metadata": {},
   "outputs": [
    {
     "data": {
      "text/plain": [
       "50380"
      ]
     },
     "execution_count": 11,
     "metadata": {},
     "output_type": "execute_result"
    }
   ],
   "source": [
    "#Longueur du df\n",
    "len(df_prot)"
   ]
  },
  {
   "cell_type": "code",
   "execution_count": 12,
   "id": "47eaddd7",
   "metadata": {},
   "outputs": [],
   "source": [
    "#Creation de la colonne pour conserver uniquement les produits dont les ingredients sont écrits en français\n",
    "df_prot['fr']=0"
   ]
  },
  {
   "cell_type": "code",
   "execution_count": 13,
   "id": "37326cf4",
   "metadata": {},
   "outputs": [],
   "source": [
    "#definir une méthode pour outre passer les ingredients avec des elements non assimilables à une langue\n",
    "def fr_language_detector (ingredients):\n",
    "    try:\n",
    "        return detect(ingredients)\n",
    "    except Exception as e:\n",
    "        print(e)\n",
    "        print(ingredients)\n",
    "        return 'lenguagenotfound'\n",
    "        "
   ]
  },
  {
   "cell_type": "code",
   "execution_count": 14,
   "id": "1a44b3bb",
   "metadata": {},
   "outputs": [
    {
     "name": "stdout",
     "output_type": "stream",
     "text": [
      "No features in text.\n",
      "100%\n",
      "No features in text.\n",
      "🤬\n",
      "No features in text.\n",
      "/\n",
      "No features in text.\n",
      "(\n",
      "No features in text.\n",
      "*\n",
      "No features in text.\n",
      "•\n"
     ]
    }
   ],
   "source": [
    "\n",
    "#detection de la langue des ingredients\n",
    "\n",
    "df_prot[\"fr\"]=df_prot[\"ingredients_text\"].apply(fr_language_detector)"
   ]
  },
  {
   "cell_type": "code",
   "execution_count": 15,
   "id": "b67ef7fe",
   "metadata": {},
   "outputs": [
    {
     "data": {
      "text/plain": [
       "en                  20253\n",
       "fr                  17547\n",
       "de                   2758\n",
       "it                   1990\n",
       "ro                   1953\n",
       "et                   1114\n",
       "ca                    773\n",
       "nl                    663\n",
       "es                    611\n",
       "sv                    542\n",
       "no                    331\n",
       "tl                    258\n",
       "pt                    233\n",
       "af                    233\n",
       "da                    216\n",
       "fi                    183\n",
       "pl                    102\n",
       "id                     90\n",
       "ru                     60\n",
       "lt                     52\n",
       "sl                     47\n",
       "lv                     42\n",
       "cy                     42\n",
       "sq                     41\n",
       "tr                     30\n",
       "bg                     30\n",
       "hu                     29\n",
       "hr                     27\n",
       "sk                     25\n",
       "so                     24\n",
       "cs                     17\n",
       "mk                     15\n",
       "sw                     14\n",
       "el                      9\n",
       "uk                      7\n",
       "lenguagenotfound        6\n",
       "vi                      5\n",
       "ja                      3\n",
       "ar                      2\n",
       "th                      1\n",
       "ko                      1\n",
       "zh-cn                   1\n",
       "Name: fr, dtype: int64"
      ]
     },
     "execution_count": 15,
     "metadata": {},
     "output_type": "execute_result"
    }
   ],
   "source": [
    "#nombre d'ingredients en fonction de langue\n",
    "df_prot['fr'].value_counts()"
   ]
  },
  {
   "cell_type": "code",
   "execution_count": 16,
   "id": "fefe11ec",
   "metadata": {
    "scrolled": true
   },
   "outputs": [],
   "source": [
    "#conserver uniquement les ingredients ecrits en français\n",
    "df_prot = df_prot[df_prot[\"fr\"].str.contains(\"fr\")==True]"
   ]
  },
  {
   "cell_type": "code",
   "execution_count": 17,
   "id": "673ee711",
   "metadata": {},
   "outputs": [
    {
     "data": {
      "text/plain": [
       "143       fr\n",
       "236       fr\n",
       "239       fr\n",
       "284       fr\n",
       "285       fr\n",
       "          ..\n",
       "506390    fr\n",
       "506392    fr\n",
       "506395    fr\n",
       "506602    fr\n",
       "506603    fr\n",
       "Name: fr, Length: 17547, dtype: object"
      ]
     },
     "execution_count": 17,
     "metadata": {},
     "output_type": "execute_result"
    }
   ],
   "source": [
    "df_prot['fr']"
   ]
  },
  {
   "cell_type": "code",
   "execution_count": 18,
   "id": "6eea797e",
   "metadata": {},
   "outputs": [
    {
     "data": {
      "text/plain": [
       "17547"
      ]
     },
     "execution_count": 18,
     "metadata": {},
     "output_type": "execute_result"
    }
   ],
   "source": [
    "#longueur du df\n",
    "len(df_prot)"
   ]
  },
  {
   "cell_type": "code",
   "execution_count": 19,
   "id": "9858e5ea",
   "metadata": {},
   "outputs": [],
   "source": [
    "#Eliminer les lignes dont le produit contient un des ingrédients de type viande\n",
    "df_prot_veg = df_prot[~df_prot.ingredients_text.str.contains('viande|boeuf|poulet|cochon|lapin|porc|cheval|dinde|sanglier|veau|chevreuille|mouton|lievre|ane|vache|toro|canard|pintade|coq|caille|faisan|chevreau|agneau|brebis|chevre|meat|beef|chicken|pig|rabbit|pork|horse|turkey|boar|cal|calf|deer|sheep|pitch|cow|toro|duck|pintade|guinea|fowl|cowl|pheasant|kate|lamb|sheep|goat|mięso|wołowe|kurczak|świnia|królik|wieprzowina|koń|indyk|byk|koza|owca|kozioł|świnia|krowa|kaczka|kogut|przepiórka|ptactwo|owca|koza|karne|baka|manok|baboy|kuneho|baboy|kabayo|pabo|ligaw|guya|roebuck|tupa|liyebre|asno|baka|toro|pato|guinea|fowl|tandang|pugo|pheasant|bata|tupa|ewe|kambing|kød|oksekød|kylling|svin|kanin|kanin|svin|hest|kalkun|tjur|får|ged|geder|geder|geder|ko|toro|and|nitte|næse|carne|de vită|de porc|de iepure|de porc|de cal|de curcan|de taur|de taur|de capră|de oaie|de capră|de porc|de vacă|de vacă|de porc|de rață|de porc|de prepeliță|de pasăre|de oaie|de țap|Carne|Polla|Suolo|Consiglio|Cavallo|Condino|Condino|Condino|Capretto|Capretto|Montagno|Montagno|Capretto|Capretto|Capretto|Capretto|Capretto|Capretto|Capretto|Agnello|govedina|chil|cochon|lapin|porc|cheval|dinde|sanglier|veau|chevreuille|mouton|lavre|avre|veau|chevreuille|mouton|lavre|Hühner|Schwein|Schwein|Schwein|Schwein|Truthahn|Schwein|Truthahn|Schwein|Schwein|Helfe|Kuh|Toros|Ente|Hahn|Fasan|Lamm|Ziege|Schwein|liha|veiseliha|kana|siga|küülik|siga|hobune|kalkun|bull|kits|lammas|kits|siga|lehm|tooro|pintade|kukk|vutt|lind|lammas|kits|carne|bovuey|pollo|cochón|conejo|puerco|caballo|nuevo|cabra|cabra|oveja|liebre|liebre|vaca|toro|pato|pinta|coq|ca|caballo|caballo|cordero|oveja|cabra')]\n",
    "\n"
   ]
  },
  {
   "cell_type": "code",
   "execution_count": 20,
   "id": "296ad8d8",
   "metadata": {},
   "outputs": [
    {
     "data": {
      "text/plain": [
       "5033"
      ]
     },
     "execution_count": 20,
     "metadata": {},
     "output_type": "execute_result"
    }
   ],
   "source": [
    "#vérifier nombre de lignes après élimination\n",
    "len(df_prot_veg.index)"
   ]
  },
  {
   "cell_type": "code",
   "execution_count": 21,
   "id": "e2ae003a",
   "metadata": {},
   "outputs": [
    {
     "data": {
      "text/html": [
       "<div>\n",
       "<style scoped>\n",
       "    .dataframe tbody tr th:only-of-type {\n",
       "        vertical-align: middle;\n",
       "    }\n",
       "\n",
       "    .dataframe tbody tr th {\n",
       "        vertical-align: top;\n",
       "    }\n",
       "\n",
       "    .dataframe thead th {\n",
       "        text-align: right;\n",
       "    }\n",
       "</style>\n",
       "<table border=\"1\" class=\"dataframe\">\n",
       "  <thead>\n",
       "    <tr style=\"text-align: right;\">\n",
       "      <th></th>\n",
       "      <th>code</th>\n",
       "      <th>url</th>\n",
       "      <th>product_name</th>\n",
       "      <th>countries_en</th>\n",
       "      <th>ingredients_text</th>\n",
       "      <th>energy-kcal_100g</th>\n",
       "      <th>fat_100g</th>\n",
       "      <th>proteins_100g</th>\n",
       "      <th>fr</th>\n",
       "    </tr>\n",
       "  </thead>\n",
       "  <tbody>\n",
       "    <tr>\n",
       "      <th>15828</th>\n",
       "      <td>14113912112</td>\n",
       "      <td>http://world-en.openfoodfacts.org/product/0014...</td>\n",
       "      <td>pistachios salt &amp; pepper</td>\n",
       "      <td>france</td>\n",
       "      <td>pistaches 96%, sel 2%, poivre, sucre, poudre d...</td>\n",
       "      <td>NaN</td>\n",
       "      <td>46.0</td>\n",
       "      <td>21.4</td>\n",
       "      <td>fr</td>\n",
       "    </tr>\n",
       "    <tr>\n",
       "      <th>15829</th>\n",
       "      <td>14113912341</td>\n",
       "      <td>http://world-en.openfoodfacts.org/product/0014...</td>\n",
       "      <td>pistaches au piment doux</td>\n",
       "      <td>france</td>\n",
       "      <td>pistaches (95%), sucre (2.5%). sel (2.4%), pou...</td>\n",
       "      <td>577.0</td>\n",
       "      <td>45.2</td>\n",
       "      <td>20.0</td>\n",
       "      <td>fr</td>\n",
       "    </tr>\n",
       "    <tr>\n",
       "      <th>15831</th>\n",
       "      <td>14113912860</td>\n",
       "      <td>http://world-en.openfoodfacts.org/product/0014...</td>\n",
       "      <td>pistaches xxl poivre &amp; sel</td>\n",
       "      <td>france</td>\n",
       "      <td>_pistaches_ (96%), sel (2,5%), poivre (0,5%), ...</td>\n",
       "      <td>NaN</td>\n",
       "      <td>46.0</td>\n",
       "      <td>21.4</td>\n",
       "      <td>fr</td>\n",
       "    </tr>\n",
       "    <tr>\n",
       "      <th>15832</th>\n",
       "      <td>14113912877</td>\n",
       "      <td>http://world-en.openfoodfacts.org/product/0014...</td>\n",
       "      <td>wonderful pistachios sweet chili</td>\n",
       "      <td>france</td>\n",
       "      <td>_pistaches_, sucre (2.5%). sel (2.4%). poudre ...</td>\n",
       "      <td>577.0</td>\n",
       "      <td>45.2</td>\n",
       "      <td>20.0</td>\n",
       "      <td>fr</td>\n",
       "    </tr>\n",
       "    <tr>\n",
       "      <th>24502</th>\n",
       "      <td>199841</td>\n",
       "      <td>http://world-en.openfoodfacts.org/product/0019...</td>\n",
       "      <td>red leicester</td>\n",
       "      <td>france</td>\n",
       "      <td>fromage red leicester (lait)· colorant rocou.</td>\n",
       "      <td>390.0</td>\n",
       "      <td>32.0</td>\n",
       "      <td>25.5</td>\n",
       "      <td>fr</td>\n",
       "    </tr>\n",
       "    <tr>\n",
       "      <th>...</th>\n",
       "      <td>...</td>\n",
       "      <td>...</td>\n",
       "      <td>...</td>\n",
       "      <td>...</td>\n",
       "      <td>...</td>\n",
       "      <td>...</td>\n",
       "      <td>...</td>\n",
       "      <td>...</td>\n",
       "      <td>...</td>\n",
       "    </tr>\n",
       "    <tr>\n",
       "      <th>503136</th>\n",
       "      <td>4800092330131</td>\n",
       "      <td>http://world-en.openfoodfacts.org/product/4800...</td>\n",
       "      <td>ding dong mixed nuts</td>\n",
       "      <td>france</td>\n",
       "      <td>arachides pois verts maïs fèves sel iodé sucre...</td>\n",
       "      <td>533.0</td>\n",
       "      <td>30.0</td>\n",
       "      <td>20.0</td>\n",
       "      <td>fr</td>\n",
       "    </tr>\n",
       "    <tr>\n",
       "      <th>503771</th>\n",
       "      <td>4901280900089</td>\n",
       "      <td>http://world-en.openfoodfacts.org/product/4901...</td>\n",
       "      <td>thé au jasmin</td>\n",
       "      <td>france</td>\n",
       "      <td>thé vert &amp; fleurs de jasmin</td>\n",
       "      <td>359.0</td>\n",
       "      <td>2.0</td>\n",
       "      <td>28.2</td>\n",
       "      <td>fr</td>\n",
       "    </tr>\n",
       "    <tr>\n",
       "      <th>503954</th>\n",
       "      <td>4902401217437</td>\n",
       "      <td>http://world-en.openfoodfacts.org/product/4902...</td>\n",
       "      <td>hanamaruki instant aka miso soup - soya bean p...</td>\n",
       "      <td>france</td>\n",
       "      <td>soupe miso rouge instannée kd (aka ml soshiru)...</td>\n",
       "      <td>349.0</td>\n",
       "      <td>9.5</td>\n",
       "      <td>22.0</td>\n",
       "      <td>fr</td>\n",
       "    </tr>\n",
       "    <tr>\n",
       "      <th>505943</th>\n",
       "      <td>5000171054852</td>\n",
       "      <td>http://world-en.openfoodfacts.org/product/5000...</td>\n",
       "      <td>infusions tuna</td>\n",
       "      <td>france</td>\n",
       "      <td>bonite à ventre rayé (skipjack tuna) (80%), hu...</td>\n",
       "      <td>202.0</td>\n",
       "      <td>11.5</td>\n",
       "      <td>24.2</td>\n",
       "      <td>fr</td>\n",
       "    </tr>\n",
       "    <tr>\n",
       "      <th>506347</th>\n",
       "      <td>5000246722006</td>\n",
       "      <td>http://world-en.openfoodfacts.org/product/5000...</td>\n",
       "      <td>arla proffesional british mild colouredslices</td>\n",
       "      <td>france</td>\n",
       "      <td>_lait_, sel, _ferments lactiques_, enzyme coag...</td>\n",
       "      <td>416.0</td>\n",
       "      <td>35.0</td>\n",
       "      <td>25.0</td>\n",
       "      <td>fr</td>\n",
       "    </tr>\n",
       "  </tbody>\n",
       "</table>\n",
       "<p>4135 rows × 9 columns</p>\n",
       "</div>"
      ],
      "text/plain": [
       "                 code                                                url  \\\n",
       "15828     14113912112  http://world-en.openfoodfacts.org/product/0014...   \n",
       "15829     14113912341  http://world-en.openfoodfacts.org/product/0014...   \n",
       "15831     14113912860  http://world-en.openfoodfacts.org/product/0014...   \n",
       "15832     14113912877  http://world-en.openfoodfacts.org/product/0014...   \n",
       "24502          199841  http://world-en.openfoodfacts.org/product/0019...   \n",
       "...               ...                                                ...   \n",
       "503136  4800092330131  http://world-en.openfoodfacts.org/product/4800...   \n",
       "503771  4901280900089  http://world-en.openfoodfacts.org/product/4901...   \n",
       "503954  4902401217437  http://world-en.openfoodfacts.org/product/4902...   \n",
       "505943  5000171054852  http://world-en.openfoodfacts.org/product/5000...   \n",
       "506347  5000246722006  http://world-en.openfoodfacts.org/product/5000...   \n",
       "\n",
       "                                             product_name countries_en  \\\n",
       "15828                            pistachios salt & pepper       france   \n",
       "15829                            pistaches au piment doux       france   \n",
       "15831                          pistaches xxl poivre & sel       france   \n",
       "15832                    wonderful pistachios sweet chili       france   \n",
       "24502                                       red leicester       france   \n",
       "...                                                   ...          ...   \n",
       "503136                               ding dong mixed nuts       france   \n",
       "503771                                      thé au jasmin       france   \n",
       "503954  hanamaruki instant aka miso soup - soya bean p...       france   \n",
       "505943                                     infusions tuna       france   \n",
       "506347      arla proffesional british mild colouredslices       france   \n",
       "\n",
       "                                         ingredients_text  energy-kcal_100g  \\\n",
       "15828   pistaches 96%, sel 2%, poivre, sucre, poudre d...               NaN   \n",
       "15829   pistaches (95%), sucre (2.5%). sel (2.4%), pou...             577.0   \n",
       "15831   _pistaches_ (96%), sel (2,5%), poivre (0,5%), ...               NaN   \n",
       "15832   _pistaches_, sucre (2.5%). sel (2.4%). poudre ...             577.0   \n",
       "24502       fromage red leicester (lait)· colorant rocou.             390.0   \n",
       "...                                                   ...               ...   \n",
       "503136  arachides pois verts maïs fèves sel iodé sucre...             533.0   \n",
       "503771                        thé vert & fleurs de jasmin             359.0   \n",
       "503954  soupe miso rouge instannée kd (aka ml soshiru)...             349.0   \n",
       "505943  bonite à ventre rayé (skipjack tuna) (80%), hu...             202.0   \n",
       "506347  _lait_, sel, _ferments lactiques_, enzyme coag...             416.0   \n",
       "\n",
       "        fat_100g  proteins_100g  fr  \n",
       "15828       46.0           21.4  fr  \n",
       "15829       45.2           20.0  fr  \n",
       "15831       46.0           21.4  fr  \n",
       "15832       45.2           20.0  fr  \n",
       "24502       32.0           25.5  fr  \n",
       "...          ...            ...  ..  \n",
       "503136      30.0           20.0  fr  \n",
       "503771       2.0           28.2  fr  \n",
       "503954       9.5           22.0  fr  \n",
       "505943      11.5           24.2  fr  \n",
       "506347      35.0           25.0  fr  \n",
       "\n",
       "[4135 rows x 9 columns]"
      ]
     },
     "execution_count": 21,
     "metadata": {},
     "output_type": "execute_result"
    }
   ],
   "source": [
    "#Eliminer lignes dont le produit ne se trouve pas en vente en France\n",
    "df_prot_veg_fr = df_prot_veg.loc[df_prot['countries_en']=='france']\n",
    "dff=df_prot_veg_fr\n",
    "#vérifier\n",
    "dff"
   ]
  },
  {
   "cell_type": "code",
   "execution_count": 22,
   "id": "970467d2",
   "metadata": {},
   "outputs": [
    {
     "data": {
      "text/plain": [
       "4135"
      ]
     },
     "execution_count": 22,
     "metadata": {},
     "output_type": "execute_result"
    }
   ],
   "source": [
    "#Quelques essais pour rendre compte du nombre de produits contenant différents ingrédients connus communément\n",
    "len(dff)"
   ]
  },
  {
   "cell_type": "code",
   "execution_count": 23,
   "id": "ea92d5bc",
   "metadata": {},
   "outputs": [],
   "source": [
    "dffsoja = dff[dff.ingredients_text.str.contains(\"soja\")]"
   ]
  },
  {
   "cell_type": "code",
   "execution_count": 24,
   "id": "7898f61a",
   "metadata": {},
   "outputs": [
    {
     "data": {
      "text/plain": [
       "184"
      ]
     },
     "execution_count": 24,
     "metadata": {},
     "output_type": "execute_result"
    }
   ],
   "source": [
    "len(dffsoja)"
   ]
  },
  {
   "cell_type": "code",
   "execution_count": 25,
   "id": "9addd372",
   "metadata": {},
   "outputs": [],
   "source": [
    "dfflentille = dff[dff.ingredients_text.str.contains(\"lentille\")]"
   ]
  },
  {
   "cell_type": "code",
   "execution_count": 26,
   "id": "826bc459",
   "metadata": {},
   "outputs": [
    {
     "data": {
      "text/plain": [
       "214"
      ]
     },
     "execution_count": 26,
     "metadata": {},
     "output_type": "execute_result"
    }
   ],
   "source": [
    "len(dfflentille)"
   ]
  },
  {
   "cell_type": "code",
   "execution_count": 27,
   "id": "86d04dd9",
   "metadata": {},
   "outputs": [],
   "source": [
    "dffharicot = dff[dff.ingredients_text.str.contains(\"haricot\")]"
   ]
  },
  {
   "cell_type": "code",
   "execution_count": 28,
   "id": "8e6f6e2e",
   "metadata": {},
   "outputs": [
    {
     "data": {
      "text/plain": [
       "23"
      ]
     },
     "execution_count": 28,
     "metadata": {},
     "output_type": "execute_result"
    }
   ],
   "source": [
    "len(dffharicot)"
   ]
  },
  {
   "cell_type": "code",
   "execution_count": 29,
   "id": "f88387f0",
   "metadata": {},
   "outputs": [],
   "source": [
    "dfflait = dff[dff.ingredients_text.str.contains(\"lait\")]"
   ]
  },
  {
   "cell_type": "code",
   "execution_count": 30,
   "id": "41cd0676",
   "metadata": {},
   "outputs": [
    {
     "data": {
      "text/plain": [
       "1294"
      ]
     },
     "execution_count": 30,
     "metadata": {},
     "output_type": "execute_result"
    }
   ],
   "source": [
    "len(dfflait)"
   ]
  },
  {
   "cell_type": "code",
   "execution_count": 31,
   "id": "e5819757",
   "metadata": {},
   "outputs": [
    {
     "data": {
      "text/plain": [
       "['lait cru, ferments lactiques (lait), sel, présure',\n",
       " 'lentilles vertes',\n",
       " 'lentilles vertes.',\n",
       " 'lait cru, sel, ferments lactiques, présure.',\n",
       " 'lentilles corail',\n",
       " 'lait cru, sel, ferments lactiques, présure',\n",
       " 'lait pasteurisé, sel, ferments lactiques, coagulant.',\n",
       " 'graines de courge',\n",
       " 'graines de tournesol',\n",
       " 'lait, sel, présure.']"
      ]
     },
     "execution_count": 31,
     "metadata": {},
     "output_type": "execute_result"
    }
   ],
   "source": [
    "#lister quelques ingrédients\n",
    "n = 10\n",
    "dff['ingredients_text'].value_counts()[:n].index.tolist()"
   ]
  },
  {
   "cell_type": "code",
   "execution_count": 32,
   "id": "7bac6412",
   "metadata": {},
   "outputs": [
    {
     "name": "stderr",
     "output_type": "stream",
     "text": [
      "<ipython-input-32-394b565e1f3b>:10: SettingWithCopyWarning: \n",
      "A value is trying to be set on a copy of a slice from a DataFrame.\n",
      "Try using .loc[row_indexer,col_indexer] = value instead\n",
      "\n",
      "See the caveats in the documentation: https://pandas.pydata.org/pandas-docs/stable/user_guide/indexing.html#returning-a-view-versus-a-copy\n",
      "  dff['rating_p'] = rating_p\n"
     ]
    },
    {
     "data": {
      "text/html": [
       "<div>\n",
       "<style scoped>\n",
       "    .dataframe tbody tr th:only-of-type {\n",
       "        vertical-align: middle;\n",
       "    }\n",
       "\n",
       "    .dataframe tbody tr th {\n",
       "        vertical-align: top;\n",
       "    }\n",
       "\n",
       "    .dataframe thead th {\n",
       "        text-align: right;\n",
       "    }\n",
       "</style>\n",
       "<table border=\"1\" class=\"dataframe\">\n",
       "  <thead>\n",
       "    <tr style=\"text-align: right;\">\n",
       "      <th></th>\n",
       "      <th>code</th>\n",
       "      <th>url</th>\n",
       "      <th>product_name</th>\n",
       "      <th>countries_en</th>\n",
       "      <th>ingredients_text</th>\n",
       "      <th>energy-kcal_100g</th>\n",
       "      <th>fat_100g</th>\n",
       "      <th>proteins_100g</th>\n",
       "      <th>fr</th>\n",
       "      <th>rating_p</th>\n",
       "    </tr>\n",
       "  </thead>\n",
       "  <tbody>\n",
       "    <tr>\n",
       "      <th>15828</th>\n",
       "      <td>14113912112</td>\n",
       "      <td>http://world-en.openfoodfacts.org/product/0014...</td>\n",
       "      <td>pistachios salt &amp; pepper</td>\n",
       "      <td>france</td>\n",
       "      <td>pistaches 96%, sel 2%, poivre, sucre, poudre d...</td>\n",
       "      <td>NaN</td>\n",
       "      <td>46.0</td>\n",
       "      <td>21.4</td>\n",
       "      <td>fr</td>\n",
       "      <td>low</td>\n",
       "    </tr>\n",
       "    <tr>\n",
       "      <th>15829</th>\n",
       "      <td>14113912341</td>\n",
       "      <td>http://world-en.openfoodfacts.org/product/0014...</td>\n",
       "      <td>pistaches au piment doux</td>\n",
       "      <td>france</td>\n",
       "      <td>pistaches (95%), sucre (2.5%). sel (2.4%), pou...</td>\n",
       "      <td>577.0</td>\n",
       "      <td>45.2</td>\n",
       "      <td>20.0</td>\n",
       "      <td>fr</td>\n",
       "      <td>low</td>\n",
       "    </tr>\n",
       "    <tr>\n",
       "      <th>15831</th>\n",
       "      <td>14113912860</td>\n",
       "      <td>http://world-en.openfoodfacts.org/product/0014...</td>\n",
       "      <td>pistaches xxl poivre &amp; sel</td>\n",
       "      <td>france</td>\n",
       "      <td>_pistaches_ (96%), sel (2,5%), poivre (0,5%), ...</td>\n",
       "      <td>NaN</td>\n",
       "      <td>46.0</td>\n",
       "      <td>21.4</td>\n",
       "      <td>fr</td>\n",
       "      <td>low</td>\n",
       "    </tr>\n",
       "    <tr>\n",
       "      <th>15832</th>\n",
       "      <td>14113912877</td>\n",
       "      <td>http://world-en.openfoodfacts.org/product/0014...</td>\n",
       "      <td>wonderful pistachios sweet chili</td>\n",
       "      <td>france</td>\n",
       "      <td>_pistaches_, sucre (2.5%). sel (2.4%). poudre ...</td>\n",
       "      <td>577.0</td>\n",
       "      <td>45.2</td>\n",
       "      <td>20.0</td>\n",
       "      <td>fr</td>\n",
       "      <td>low</td>\n",
       "    </tr>\n",
       "    <tr>\n",
       "      <th>24502</th>\n",
       "      <td>199841</td>\n",
       "      <td>http://world-en.openfoodfacts.org/product/0019...</td>\n",
       "      <td>red leicester</td>\n",
       "      <td>france</td>\n",
       "      <td>fromage red leicester (lait)· colorant rocou.</td>\n",
       "      <td>390.0</td>\n",
       "      <td>32.0</td>\n",
       "      <td>25.5</td>\n",
       "      <td>fr</td>\n",
       "      <td>middle</td>\n",
       "    </tr>\n",
       "    <tr>\n",
       "      <th>...</th>\n",
       "      <td>...</td>\n",
       "      <td>...</td>\n",
       "      <td>...</td>\n",
       "      <td>...</td>\n",
       "      <td>...</td>\n",
       "      <td>...</td>\n",
       "      <td>...</td>\n",
       "      <td>...</td>\n",
       "      <td>...</td>\n",
       "      <td>...</td>\n",
       "    </tr>\n",
       "    <tr>\n",
       "      <th>503136</th>\n",
       "      <td>4800092330131</td>\n",
       "      <td>http://world-en.openfoodfacts.org/product/4800...</td>\n",
       "      <td>ding dong mixed nuts</td>\n",
       "      <td>france</td>\n",
       "      <td>arachides pois verts maïs fèves sel iodé sucre...</td>\n",
       "      <td>533.0</td>\n",
       "      <td>30.0</td>\n",
       "      <td>20.0</td>\n",
       "      <td>fr</td>\n",
       "      <td>low</td>\n",
       "    </tr>\n",
       "    <tr>\n",
       "      <th>503771</th>\n",
       "      <td>4901280900089</td>\n",
       "      <td>http://world-en.openfoodfacts.org/product/4901...</td>\n",
       "      <td>thé au jasmin</td>\n",
       "      <td>france</td>\n",
       "      <td>thé vert &amp; fleurs de jasmin</td>\n",
       "      <td>359.0</td>\n",
       "      <td>2.0</td>\n",
       "      <td>28.2</td>\n",
       "      <td>fr</td>\n",
       "      <td>middle</td>\n",
       "    </tr>\n",
       "    <tr>\n",
       "      <th>503954</th>\n",
       "      <td>4902401217437</td>\n",
       "      <td>http://world-en.openfoodfacts.org/product/4902...</td>\n",
       "      <td>hanamaruki instant aka miso soup - soya bean p...</td>\n",
       "      <td>france</td>\n",
       "      <td>soupe miso rouge instannée kd (aka ml soshiru)...</td>\n",
       "      <td>349.0</td>\n",
       "      <td>9.5</td>\n",
       "      <td>22.0</td>\n",
       "      <td>fr</td>\n",
       "      <td>low</td>\n",
       "    </tr>\n",
       "    <tr>\n",
       "      <th>505943</th>\n",
       "      <td>5000171054852</td>\n",
       "      <td>http://world-en.openfoodfacts.org/product/5000...</td>\n",
       "      <td>infusions tuna</td>\n",
       "      <td>france</td>\n",
       "      <td>bonite à ventre rayé (skipjack tuna) (80%), hu...</td>\n",
       "      <td>202.0</td>\n",
       "      <td>11.5</td>\n",
       "      <td>24.2</td>\n",
       "      <td>fr</td>\n",
       "      <td>low</td>\n",
       "    </tr>\n",
       "    <tr>\n",
       "      <th>506347</th>\n",
       "      <td>5000246722006</td>\n",
       "      <td>http://world-en.openfoodfacts.org/product/5000...</td>\n",
       "      <td>arla proffesional british mild colouredslices</td>\n",
       "      <td>france</td>\n",
       "      <td>_lait_, sel, _ferments lactiques_, enzyme coag...</td>\n",
       "      <td>416.0</td>\n",
       "      <td>35.0</td>\n",
       "      <td>25.0</td>\n",
       "      <td>fr</td>\n",
       "      <td>low</td>\n",
       "    </tr>\n",
       "  </tbody>\n",
       "</table>\n",
       "<p>4135 rows × 10 columns</p>\n",
       "</div>"
      ],
      "text/plain": [
       "                 code                                                url  \\\n",
       "15828     14113912112  http://world-en.openfoodfacts.org/product/0014...   \n",
       "15829     14113912341  http://world-en.openfoodfacts.org/product/0014...   \n",
       "15831     14113912860  http://world-en.openfoodfacts.org/product/0014...   \n",
       "15832     14113912877  http://world-en.openfoodfacts.org/product/0014...   \n",
       "24502          199841  http://world-en.openfoodfacts.org/product/0019...   \n",
       "...               ...                                                ...   \n",
       "503136  4800092330131  http://world-en.openfoodfacts.org/product/4800...   \n",
       "503771  4901280900089  http://world-en.openfoodfacts.org/product/4901...   \n",
       "503954  4902401217437  http://world-en.openfoodfacts.org/product/4902...   \n",
       "505943  5000171054852  http://world-en.openfoodfacts.org/product/5000...   \n",
       "506347  5000246722006  http://world-en.openfoodfacts.org/product/5000...   \n",
       "\n",
       "                                             product_name countries_en  \\\n",
       "15828                            pistachios salt & pepper       france   \n",
       "15829                            pistaches au piment doux       france   \n",
       "15831                          pistaches xxl poivre & sel       france   \n",
       "15832                    wonderful pistachios sweet chili       france   \n",
       "24502                                       red leicester       france   \n",
       "...                                                   ...          ...   \n",
       "503136                               ding dong mixed nuts       france   \n",
       "503771                                      thé au jasmin       france   \n",
       "503954  hanamaruki instant aka miso soup - soya bean p...       france   \n",
       "505943                                     infusions tuna       france   \n",
       "506347      arla proffesional british mild colouredslices       france   \n",
       "\n",
       "                                         ingredients_text  energy-kcal_100g  \\\n",
       "15828   pistaches 96%, sel 2%, poivre, sucre, poudre d...               NaN   \n",
       "15829   pistaches (95%), sucre (2.5%). sel (2.4%), pou...             577.0   \n",
       "15831   _pistaches_ (96%), sel (2,5%), poivre (0,5%), ...               NaN   \n",
       "15832   _pistaches_, sucre (2.5%). sel (2.4%). poudre ...             577.0   \n",
       "24502       fromage red leicester (lait)· colorant rocou.             390.0   \n",
       "...                                                   ...               ...   \n",
       "503136  arachides pois verts maïs fèves sel iodé sucre...             533.0   \n",
       "503771                        thé vert & fleurs de jasmin             359.0   \n",
       "503954  soupe miso rouge instannée kd (aka ml soshiru)...             349.0   \n",
       "505943  bonite à ventre rayé (skipjack tuna) (80%), hu...             202.0   \n",
       "506347  _lait_, sel, _ferments lactiques_, enzyme coag...             416.0   \n",
       "\n",
       "        fat_100g  proteins_100g  fr rating_p  \n",
       "15828       46.0           21.4  fr      low  \n",
       "15829       45.2           20.0  fr      low  \n",
       "15831       46.0           21.4  fr      low  \n",
       "15832       45.2           20.0  fr      low  \n",
       "24502       32.0           25.5  fr   middle  \n",
       "...          ...            ...  ..      ...  \n",
       "503136      30.0           20.0  fr      low  \n",
       "503771       2.0           28.2  fr   middle  \n",
       "503954       9.5           22.0  fr      low  \n",
       "505943      11.5           24.2  fr      low  \n",
       "506347      35.0           25.0  fr      low  \n",
       "\n",
       "[4135 rows x 10 columns]"
      ]
     },
     "execution_count": 32,
     "metadata": {},
     "output_type": "execute_result"
    }
   ],
   "source": [
    "#Catégriser la concentration en protéines\n",
    "rating_p = []\n",
    "for row in dff['proteins_100g']:\n",
    "        if row <= 25 :    \n",
    "            rating_p.append('low')\n",
    "        elif 70 >= row > 25:\n",
    "            rating_p.append('middle')\n",
    "        else:           \n",
    "            rating_p.append('high')\n",
    "dff['rating_p'] = rating_p\n",
    "dff"
   ]
  },
  {
   "cell_type": "code",
   "execution_count": 33,
   "id": "f62a7c4a",
   "metadata": {},
   "outputs": [
    {
     "data": {
      "text/plain": [
       "26.026201115086515"
      ]
     },
     "execution_count": 33,
     "metadata": {},
     "output_type": "execute_result"
    }
   ],
   "source": [
    "#Calcul de la moyenne, médiane, permier et troisième quartile, variance, ecart-type et espace interquatile pour les concentrations en proteines\n",
    "m=np.mean(dff['proteins_100g'])\n",
    "m"
   ]
  },
  {
   "cell_type": "code",
   "execution_count": 34,
   "id": "c625e5c2",
   "metadata": {},
   "outputs": [
    {
     "data": {
      "text/plain": [
       "23.8"
      ]
     },
     "execution_count": 34,
     "metadata": {},
     "output_type": "execute_result"
    }
   ],
   "source": [
    "me=np.median(dff['proteins_100g'])\n",
    "me"
   ]
  },
  {
   "cell_type": "code",
   "execution_count": 35,
   "id": "393d33d2",
   "metadata": {},
   "outputs": [
    {
     "data": {
      "text/plain": [
       "21.5"
      ]
     },
     "execution_count": 35,
     "metadata": {},
     "output_type": "execute_result"
    }
   ],
   "source": [
    "q1=np.percentile(dff['proteins_100g'], 25)\n",
    "q1"
   ]
  },
  {
   "cell_type": "code",
   "execution_count": 36,
   "id": "f177a230",
   "metadata": {},
   "outputs": [
    {
     "data": {
      "text/plain": [
       "27.0"
      ]
     },
     "execution_count": 36,
     "metadata": {},
     "output_type": "execute_result"
    }
   ],
   "source": [
    "q3=np.percentile(dff['proteins_100g'], 75)\n",
    "q3"
   ]
  },
  {
   "cell_type": "code",
   "execution_count": 37,
   "id": "7cefdb88",
   "metadata": {},
   "outputs": [
    {
     "data": {
      "text/plain": [
       "84.77"
      ]
     },
     "execution_count": 37,
     "metadata": {},
     "output_type": "execute_result"
    }
   ],
   "source": [
    "v=np.var(dff['proteins_100g'])\n",
    "round(v, 2)"
   ]
  },
  {
   "cell_type": "code",
   "execution_count": 38,
   "id": "83f6dc0d",
   "metadata": {},
   "outputs": [
    {
     "data": {
      "text/plain": [
       "9.21"
      ]
     },
     "execution_count": 38,
     "metadata": {},
     "output_type": "execute_result"
    }
   ],
   "source": [
    "e=np.std(dff['proteins_100g'])\n",
    "round(e, 2)"
   ]
  },
  {
   "cell_type": "code",
   "execution_count": 39,
   "id": "c83f47b4",
   "metadata": {},
   "outputs": [
    {
     "data": {
      "text/plain": [
       "5.5"
      ]
     },
     "execution_count": 39,
     "metadata": {},
     "output_type": "execute_result"
    }
   ],
   "source": [
    "eq = q3 - q1\n",
    "eq"
   ]
  },
  {
   "cell_type": "code",
   "execution_count": 40,
   "id": "ec833cfe",
   "metadata": {},
   "outputs": [
    {
     "data": {
      "text/plain": [
       "{'whiskers': [<matplotlib.lines.Line2D at 0x2126dddb8e0>,\n",
       "  <matplotlib.lines.Line2D at 0x2126dddbc40>],\n",
       " 'caps': [<matplotlib.lines.Line2D at 0x2126dddbfa0>,\n",
       "  <matplotlib.lines.Line2D at 0x2126ddea340>],\n",
       " 'boxes': [<matplotlib.lines.Line2D at 0x2126dddb580>],\n",
       " 'medians': [<matplotlib.lines.Line2D at 0x2126ddea6a0>],\n",
       " 'fliers': [<matplotlib.lines.Line2D at 0x2126ddeaa00>],\n",
       " 'means': []}"
      ]
     },
     "execution_count": 40,
     "metadata": {},
     "output_type": "execute_result"
    },
    {
     "data": {
      "image/png": "[encoded data removed]",
      "text/plain": [
       "<Figure size 432x288 with 1 Axes>"
      ]
     },
     "metadata": {
      "needs_background": "light"
     },
     "output_type": "display_data"
    }
   ],
   "source": [
    "#boxplot des concentrations en proteines\n",
    "fig1, ax1 = plt.subplots()\n",
    "ax1.set_ylim(0, 100)\n",
    "ax1.set_title('Distribution des produits selon leur concentration de proteines pour 100g de produit')\n",
    "ax1.boxplot(df_prot['proteins_100g'])"
   ]
  },
  {
   "cell_type": "code",
   "execution_count": 41,
   "id": "cfdd2bb5",
   "metadata": {},
   "outputs": [
    {
     "data": {
      "text/plain": [
       "{'whiskers': [<matplotlib.lines.Line2D at 0x212701eb520>,\n",
       "  <matplotlib.lines.Line2D at 0x212701eb880>],\n",
       " 'caps': [<matplotlib.lines.Line2D at 0x212701ebbe0>,\n",
       "  <matplotlib.lines.Line2D at 0x212701ebf40>],\n",
       " 'boxes': [<matplotlib.lines.Line2D at 0x212701eb1c0>],\n",
       " 'medians': [<matplotlib.lines.Line2D at 0x212701f32e0>],\n",
       " 'fliers': [<matplotlib.lines.Line2D at 0x212701f3640>],\n",
       " 'means': []}"
      ]
     },
     "execution_count": 41,
     "metadata": {},
     "output_type": "execute_result"
    },
    {
     "data": {
      "image/png": "[encoded data removed]",
      "text/plain": [
       "<Figure size 432x288 with 1 Axes>"
      ]
     },
     "metadata": {
      "needs_background": "light"
     },
     "output_type": "display_data"
    }
   ],
   "source": [
    "#boxplot des concentration en proteines avec concentration superieure ou égale à 20 g pour 100g de produit\n",
    "fig1, ax1 = plt.subplots()\n",
    "ax1.set_ylim(20,100)\n",
    "ax1.set_title('Distribution des produits ayant plus de 20g de proteines pour 100g de produit')\n",
    "ax1.boxplot(dff['proteins_100g'])"
   ]
  },
  {
   "cell_type": "code",
   "execution_count": 42,
   "id": "a0cd85ff",
   "metadata": {},
   "outputs": [
    {
     "data": {
      "image/png": "[encoded data removed]",
      "text/plain": [
       "<Figure size 432x288 with 1 Axes>"
      ]
     },
     "metadata": {
      "needs_background": "light"
     },
     "output_type": "display_data"
    }
   ],
   "source": [
    "#distribution normale des concentration en proteines\n",
    "\n",
    "x_min = 20\n",
    "x_max = 100\n",
    "\n",
    "mean = m \n",
    "std = e\n",
    "\n",
    "x = np.linspace(x_min, x_max, 100)\n",
    "\n",
    "y = scipy.stats.norm.pdf(x,mean,std)\n",
    "\n",
    "plt.plot(x,y, color='black')\n",
    "\n",
    "#----------------------------------------------------------------------------------------#\n",
    "# fill area 1\n",
    "\n",
    "pt1 = mean + std\n",
    "plt.plot([pt1 ,pt1 ],[0.0,scipy.stats.norm.pdf(pt1 ,mean, std)], color='black')\n",
    "\n",
    "pt2 = mean - std\n",
    "plt.plot([pt2 ,pt2 ],[0.0,scipy.stats.norm.pdf(pt2 ,mean, std)], color='black')\n",
    "\n",
    "ptx = np.linspace(pt1, pt2, 10)\n",
    "pty = scipy.stats.norm.pdf(ptx,mean,std)\n",
    "\n",
    "plt.fill_between(ptx, pty, color='#0b559f', alpha=1.0)\n",
    "\n",
    "#----------------------------------------------------------------------------------------#\n",
    "# fill area 2\n",
    "\n",
    "pt1 = mean + std\n",
    "plt.plot([pt1 ,pt1 ],[0.0,scipy.stats.norm.pdf(pt1 ,mean, std)], color='black')\n",
    "\n",
    "pt2 = mean + 2.0 * std\n",
    "plt.plot([pt2 ,pt2 ],[0.0,scipy.stats.norm.pdf(pt2 ,mean, std)], color='black')\n",
    "\n",
    "ptx = np.linspace(pt1, pt2, 10)\n",
    "pty = scipy.stats.norm.pdf(ptx,mean,std)\n",
    "\n",
    "plt.fill_between(ptx, pty, color='#2b7bba', alpha=1.0)\n",
    "\n",
    "#----------------------------------------------------------------------------------------#\n",
    "# fill area 3\n",
    "\n",
    "pt1 = mean - std\n",
    "plt.plot([pt1 ,pt1 ],[0.0,scipy.stats.norm.pdf(pt1 ,mean, std)], color='black')\n",
    "\n",
    "pt2 = mean - 2.0 * std\n",
    "plt.plot([pt2 ,pt2 ],[0.0,scipy.stats.norm.pdf(pt2 ,mean, std)], color='black')\n",
    "\n",
    "ptx = np.linspace(pt1, pt2, 10)\n",
    "pty = scipy.stats.norm.pdf(ptx,mean,std)\n",
    "\n",
    "plt.fill_between(ptx, pty, color='#2b7bba', alpha=1.0)\n",
    "\n",
    "#----------------------------------------------------------------------------------------#\n",
    "# fill area 4\n",
    "\n",
    "pt1 = mean + 2.0 * std\n",
    "plt.plot([pt1 ,pt1 ],[0.0,scipy.stats.norm.pdf(pt1 ,mean, std)], color='black')\n",
    "\n",
    "pt2 = mean + 3.0 * std\n",
    "plt.plot([pt2 ,pt2 ],[0.0,scipy.stats.norm.pdf(pt2 ,mean, std)], color='black')\n",
    "\n",
    "ptx = np.linspace(pt1, pt2, 10)\n",
    "pty = scipy.stats.norm.pdf(ptx,mean,std)\n",
    "\n",
    "plt.fill_between(ptx, pty, color='#539ecd', alpha=1.0)\n",
    "\n",
    "#----------------------------------------------------------------------------------------#\n",
    "# fill area 5\n",
    "\n",
    "pt1 = mean - 2.0 * std\n",
    "plt.plot([pt1 ,pt1 ],[0.0,scipy.stats.norm.pdf(pt1 ,mean, std)], color='black')\n",
    "\n",
    "pt2 = mean - 3.0 * std\n",
    "plt.plot([pt2 ,pt2 ],[0.0,scipy.stats.norm.pdf(pt2 ,mean, std)], color='black')\n",
    "\n",
    "ptx = np.linspace(pt1, pt2, 10)\n",
    "pty = scipy.stats.norm.pdf(ptx,mean,std)\n",
    "\n",
    "plt.fill_between(ptx, pty, color='#539ecd', alpha=1.0)\n",
    "\n",
    "#----------------------------------------------------------------------------------------#\n",
    "# fill area 6\n",
    "\n",
    "pt1 = mean + 3.0 * std\n",
    "plt.plot([pt1 ,pt1 ],[0.0,scipy.stats.norm.pdf(pt1 ,mean, std)], color='black')\n",
    "\n",
    "pt2 = mean + 10.0 *std\n",
    "plt.plot([pt2 ,pt2 ],[0.0,scipy.stats.norm.pdf(pt2 ,mean, std)], color='black')\n",
    "\n",
    "ptx = np.linspace(pt1, pt2, 10)\n",
    "pty = scipy.stats.norm.pdf(ptx,mean,std)\n",
    "\n",
    "plt.fill_between(ptx, pty, color='#89bedc', alpha=1.0)\n",
    "\n",
    "#----------------------------------------------------------------------------------------#\n",
    "# fill area 7\n",
    "\n",
    "pt1 = mean - 3.0 * std\n",
    "plt.plot([pt1 ,pt1 ],[0.0,scipy.stats.norm.pdf(pt1 ,mean, std)], color='black')\n",
    "\n",
    "pt2 = mean - 10.0 * std\n",
    "plt.plot([pt2 ,pt2 ],[0.0,scipy.stats.norm.pdf(pt2 ,mean, std)], color='black')\n",
    "\n",
    "ptx = np.linspace(pt1, pt2, 10)\n",
    "pty = scipy.stats.norm.pdf(ptx,mean,std)\n",
    "\n",
    "plt.fill_between(ptx, pty, color='#89bedc', alpha=1.0)\n",
    "\n",
    "#----------------------------------------------------------------------------------------#\n",
    "\n",
    "plt.grid()\n",
    "\n",
    "plt.xlim(x_min,x_max)\n",
    "plt.ylim(0,0.07)\n",
    "\n",
    "plt.title('Normal distribution by protein concentration',fontsize=10)\n",
    "\n",
    "plt.xlabel('protein\\'s concentration')\n",
    "plt.title('Normal distribution for protein\\'s concentration')\n",
    "plt.savefig(\"normal_distribution_2.png\")\n",
    "plt.show()"
   ]
  },
  {
   "cell_type": "code",
   "execution_count": 43,
   "id": "71256445",
   "metadata": {},
   "outputs": [
    {
     "data": {
      "text/plain": [
       "<AxesSubplot:>"
      ]
     },
     "execution_count": 43,
     "metadata": {},
     "output_type": "execute_result"
    },
    {
     "data": {
      "image/png": "[encoded data removed]",
      "text/plain": [
       "<Figure size 432x288 with 1 Axes>"
      ]
     },
     "metadata": {
      "needs_background": "light"
     },
     "output_type": "display_data"
    }
   ],
   "source": [
    "#histogramme de la distribution des concentration en proteines\n",
    "dff['rating_p'].hist(ylabelsize=10)"
   ]
  },
  {
   "cell_type": "code",
   "execution_count": 44,
   "id": "82725bcc",
   "metadata": {},
   "outputs": [
    {
     "data": {
      "text/plain": [
       "<matplotlib.collections.PathCollection at 0x212703c7d90>"
      ]
     },
     "execution_count": 44,
     "metadata": {},
     "output_type": "execute_result"
    },
    {
     "data": {
      "image/png": "[encoded data removed]",
      "text/plain": [
       "<Figure size 432x288 with 1 Axes>"
      ]
     },
     "metadata": {
      "needs_background": "light"
     },
     "output_type": "display_data"
    }
   ],
   "source": [
    "#nuage de points de la distribution des concentrations de proteines \n",
    "plt.xlabel('protein\\'s concentration')\n",
    "plt.ylabel('protein\\'s concentration category')\n",
    "plt.title('Distribution of protein\\'s concentration VS protein\\'s concentration category avec outliers')\n",
    "plt.scatter(dff['proteins_100g'], dff['rating_p'])"
   ]
  },
  {
   "cell_type": "code",
   "execution_count": 45,
   "id": "027a5d45",
   "metadata": {},
   "outputs": [],
   "source": [
    "#Elimination des outliers\n",
    "dff = dff[dff.proteins_100g < 100]"
   ]
  },
  {
   "cell_type": "code",
   "execution_count": 46,
   "id": "6f2877cf",
   "metadata": {},
   "outputs": [
    {
     "data": {
      "text/plain": [
       "<matplotlib.collections.PathCollection at 0x2127042e160>"
      ]
     },
     "execution_count": 46,
     "metadata": {},
     "output_type": "execute_result"
    },
    {
     "data": {
      "image/png": "[encoded data removed]",
      "text/plain": [
       "<Figure size 432x288 with 1 Axes>"
      ]
     },
     "metadata": {
      "needs_background": "light"
     },
     "output_type": "display_data"
    }
   ],
   "source": [
    "#nuage de point après elimination des outliers\n",
    "plt.xlabel('protein\\'s concentration')\n",
    "plt.ylabel('protein\\'s concentration category')\n",
    "plt.title('Distribution of protein\\'s concentration VS protein\\'s concentration category sans outliers')\n",
    "plt.scatter(dff['proteins_100g'], dff['rating_p'])"
   ]
  },
  {
   "cell_type": "code",
   "execution_count": 47,
   "id": "452028dd",
   "metadata": {},
   "outputs": [
    {
     "data": {
      "text/plain": [
       "26.026201115086515"
      ]
     },
     "execution_count": 47,
     "metadata": {},
     "output_type": "execute_result"
    }
   ],
   "source": [
    "#Calcul de la moyenne, médiane, permier et troisième quartile, variance, ecart-type et espace interquatile pour les concentrations en proteines après avoir eliminer les outliers\n",
    "\n",
    "mp=np.mean(dff['proteins_100g'])\n",
    "m"
   ]
  },
  {
   "cell_type": "code",
   "execution_count": null,
   "id": "cda20bf7",
   "metadata": {},
   "outputs": [],
   "source": []
  },
  {
   "cell_type": "code",
   "execution_count": 48,
   "id": "b627f55e",
   "metadata": {},
   "outputs": [
    {
     "data": {
      "text/plain": [
       "23.8"
      ]
     },
     "execution_count": 48,
     "metadata": {},
     "output_type": "execute_result"
    }
   ],
   "source": [
    "mep=np.median(dff['proteins_100g'])\n",
    "me"
   ]
  },
  {
   "cell_type": "code",
   "execution_count": 49,
   "id": "de461f6f",
   "metadata": {},
   "outputs": [
    {
     "data": {
      "text/plain": [
       "21.5"
      ]
     },
     "execution_count": 49,
     "metadata": {},
     "output_type": "execute_result"
    }
   ],
   "source": [
    "q1p=np.percentile(dff['proteins_100g'], 25)\n",
    "q1"
   ]
  },
  {
   "cell_type": "code",
   "execution_count": 50,
   "id": "87181c74",
   "metadata": {},
   "outputs": [
    {
     "data": {
      "text/plain": [
       "27.0"
      ]
     },
     "execution_count": 50,
     "metadata": {},
     "output_type": "execute_result"
    }
   ],
   "source": [
    "q3p=np.percentile(dff['proteins_100g'], 75)\n",
    "q3"
   ]
  },
  {
   "cell_type": "code",
   "execution_count": 51,
   "id": "378260e2",
   "metadata": {},
   "outputs": [
    {
     "data": {
      "text/plain": [
       "84.77"
      ]
     },
     "execution_count": 51,
     "metadata": {},
     "output_type": "execute_result"
    }
   ],
   "source": [
    "vp=np.var(dff['proteins_100g'])\n",
    "round(v, 2)"
   ]
  },
  {
   "cell_type": "code",
   "execution_count": 52,
   "id": "364868d6",
   "metadata": {},
   "outputs": [
    {
     "data": {
      "text/plain": [
       "9.21"
      ]
     },
     "execution_count": 52,
     "metadata": {},
     "output_type": "execute_result"
    }
   ],
   "source": [
    "ep=np.std(dff['proteins_100g'])\n",
    "round(e, 2)"
   ]
  },
  {
   "cell_type": "code",
   "execution_count": 53,
   "id": "e7f93678",
   "metadata": {},
   "outputs": [
    {
     "data": {
      "text/plain": [
       "5.5"
      ]
     },
     "execution_count": 53,
     "metadata": {},
     "output_type": "execute_result"
    }
   ],
   "source": [
    "eqp = q3 - q1\n",
    "eq"
   ]
  },
  {
   "cell_type": "code",
   "execution_count": 54,
   "id": "aba72989",
   "metadata": {},
   "outputs": [
    {
     "data": {
      "image/png": "[encoded data removed]",
      "text/plain": [
       "<Figure size 432x288 with 1 Axes>"
      ]
     },
     "metadata": {
      "needs_background": "light"
     },
     "output_type": "display_data"
    }
   ],
   "source": [
    "#boxplot de la distribution des concentrations en proteines apres avoir eliminer les outliers\n",
    "fig1, ax1 = plt.subplots()\n",
    "ax1.set_ylim(20,100)\n",
    "ax1.set_ylabel('protein\\'s concentration')\n",
    "ax1.set_title('Distribution des produits ayant plus de 20g de proteines pour 100g de produit');\n",
    "ax1.boxplot(dff['proteins_100g']);"
   ]
  },
  {
   "cell_type": "code",
   "execution_count": 55,
   "id": "8e5bd5d0",
   "metadata": {},
   "outputs": [
    {
     "data": {
      "image/png": "[encoded data removed]",
      "text/plain": [
       "<Figure size 432x288 with 1 Axes>"
      ]
     },
     "metadata": {
      "needs_background": "light"
     },
     "output_type": "display_data"
    }
   ],
   "source": [
    "#distribution normale des concentrations en proteines apres avoir eliminer les outliers\n",
    "x_min = 20\n",
    "x_max = 100\n",
    "\n",
    "mean = mp \n",
    "std = ep\n",
    "\n",
    "x = np.linspace(x_min, x_max, 100)\n",
    "\n",
    "y = scipy.stats.norm.pdf(x,mean,std)\n",
    "\n",
    "plt.plot(x,y, color='black')\n",
    "\n",
    "#----------------------------------------------------------------------------------------#\n",
    "# fill area 1\n",
    "\n",
    "pt1 = mean + std\n",
    "plt.plot([pt1 ,pt1 ],[0.0,scipy.stats.norm.pdf(pt1 ,mean, std)], color='black')\n",
    "\n",
    "pt2 = mean - std\n",
    "plt.plot([pt2 ,pt2 ],[0.0,scipy.stats.norm.pdf(pt2 ,mean, std)], color='black')\n",
    "\n",
    "ptx = np.linspace(pt1, pt2, 10)\n",
    "pty = scipy.stats.norm.pdf(ptx,mean,std)\n",
    "\n",
    "plt.fill_between(ptx, pty, color='#0b559f', alpha=1.0)\n",
    "\n",
    "#----------------------------------------------------------------------------------------#\n",
    "# fill area 2\n",
    "\n",
    "pt1 = mean + std\n",
    "plt.plot([pt1 ,pt1 ],[0.0,scipy.stats.norm.pdf(pt1 ,mean, std)], color='black')\n",
    "\n",
    "pt2 = mean + 2.0 * std\n",
    "plt.plot([pt2 ,pt2 ],[0.0,scipy.stats.norm.pdf(pt2 ,mean, std)], color='black')\n",
    "\n",
    "ptx = np.linspace(pt1, pt2, 10)\n",
    "pty = scipy.stats.norm.pdf(ptx,mean,std)\n",
    "\n",
    "plt.fill_between(ptx, pty, color='#2b7bba', alpha=1.0)\n",
    "\n",
    "#----------------------------------------------------------------------------------------#\n",
    "# fill area 3\n",
    "\n",
    "pt1 = mean - std\n",
    "plt.plot([pt1 ,pt1 ],[0.0,scipy.stats.norm.pdf(pt1 ,mean, std)], color='black')\n",
    "\n",
    "pt2 = mean - 2.0 * std\n",
    "plt.plot([pt2 ,pt2 ],[0.0,scipy.stats.norm.pdf(pt2 ,mean, std)], color='black')\n",
    "\n",
    "ptx = np.linspace(pt1, pt2, 10)\n",
    "pty = scipy.stats.norm.pdf(ptx,mean,std)\n",
    "\n",
    "plt.fill_between(ptx, pty, color='#2b7bba', alpha=1.0)\n",
    "\n",
    "#----------------------------------------------------------------------------------------#\n",
    "# fill area 4\n",
    "\n",
    "pt1 = mean + 2.0 * std\n",
    "plt.plot([pt1 ,pt1 ],[0.0,scipy.stats.norm.pdf(pt1 ,mean, std)], color='black')\n",
    "\n",
    "pt2 = mean + 3.0 * std\n",
    "plt.plot([pt2 ,pt2 ],[0.0,scipy.stats.norm.pdf(pt2 ,mean, std)], color='black')\n",
    "\n",
    "ptx = np.linspace(pt1, pt2, 10)\n",
    "pty = scipy.stats.norm.pdf(ptx,mean,std)\n",
    "\n",
    "plt.fill_between(ptx, pty, color='#539ecd', alpha=1.0)\n",
    "\n",
    "#----------------------------------------------------------------------------------------#\n",
    "# fill area 5\n",
    "\n",
    "pt1 = mean - 2.0 * std\n",
    "plt.plot([pt1 ,pt1 ],[0.0,scipy.stats.norm.pdf(pt1 ,mean, std)], color='black')\n",
    "\n",
    "pt2 = mean - 3.0 * std\n",
    "plt.plot([pt2 ,pt2 ],[0.0,scipy.stats.norm.pdf(pt2 ,mean, std)], color='black')\n",
    "\n",
    "ptx = np.linspace(pt1, pt2, 10)\n",
    "pty = scipy.stats.norm.pdf(ptx,mean,std)\n",
    "\n",
    "plt.fill_between(ptx, pty, color='#539ecd', alpha=1.0)\n",
    "\n",
    "#----------------------------------------------------------------------------------------#\n",
    "# fill area 6\n",
    "\n",
    "pt1 = mean + 3.0 * std\n",
    "plt.plot([pt1 ,pt1 ],[0.0,scipy.stats.norm.pdf(pt1 ,mean, std)], color='black')\n",
    "\n",
    "pt2 = mean + 10.0 *std\n",
    "plt.plot([pt2 ,pt2 ],[0.0,scipy.stats.norm.pdf(pt2 ,mean, std)], color='black')\n",
    "\n",
    "ptx = np.linspace(pt1, pt2, 10)\n",
    "pty = scipy.stats.norm.pdf(ptx,mean,std)\n",
    "\n",
    "plt.fill_between(ptx, pty, color='#89bedc', alpha=1.0)\n",
    "\n",
    "#----------------------------------------------------------------------------------------#\n",
    "# fill area 7\n",
    "\n",
    "pt1 = mean - 3.0 * std\n",
    "plt.plot([pt1 ,pt1 ],[0.0,scipy.stats.norm.pdf(pt1 ,mean, std)], color='black')\n",
    "\n",
    "pt2 = mean - 10.0 * std\n",
    "plt.plot([pt2 ,pt2 ],[0.0,scipy.stats.norm.pdf(pt2 ,mean, std)], color='black')\n",
    "\n",
    "ptx = np.linspace(pt1, pt2, 10)\n",
    "pty = scipy.stats.norm.pdf(ptx,mean,std)\n",
    "\n",
    "plt.fill_between(ptx, pty, color='#89bedc', alpha=1.0)\n",
    "\n",
    "#----------------------------------------------------------------------------------------#\n",
    "\n",
    "plt.grid()\n",
    "\n",
    "plt.xlim(x_min,x_max)\n",
    "plt.ylim(0,0.06)\n",
    "\n",
    "plt.title('Normal distribution of products by protein\\'s concentration',fontsize=12)\n",
    "\n",
    "plt.xlabel('protein\\'s concentration')\n",
    "plt.ylabel('Normal Distribution')\n",
    "\n",
    "plt.savefig(\"normal_distribution_2.png\")\n",
    "plt.show()"
   ]
  },
  {
   "cell_type": "code",
   "execution_count": 56,
   "id": "5ca1f598",
   "metadata": {},
   "outputs": [
    {
     "data": {
      "text/plain": [
       "<AxesSubplot:>"
      ]
     },
     "execution_count": 56,
     "metadata": {},
     "output_type": "execute_result"
    },
    {
     "data": {
      "image/png": "[encoded data removed]",
      "text/plain": [
       "<Figure size 432x288 with 1 Axes>"
      ]
     },
     "metadata": {
      "needs_background": "light"
     },
     "output_type": "display_data"
    }
   ],
   "source": [
    "#histogramme de la distribution des cocnentrations en proteines apres avoir eliminer les outliers\n",
    "dff['rating_p'].hist(ylabelsize=10)"
   ]
  },
  {
   "cell_type": "code",
   "execution_count": 57,
   "id": "9eb0ff51",
   "metadata": {},
   "outputs": [
    {
     "data": {
      "text/plain": [
       "low       63.755142\n",
       "middle    35.035083\n",
       "high       1.209775\n",
       "Name: rating_p, dtype: float64"
      ]
     },
     "execution_count": 57,
     "metadata": {},
     "output_type": "execute_result"
    }
   ],
   "source": [
    "#Calculs de la part en poucentage des differentes categories de concentration en proteines\n",
    "(dff['rating_p'].value_counts()/dff['rating_p'].count())*100"
   ]
  },
  {
   "cell_type": "code",
   "execution_count": 58,
   "id": "e87d5aae",
   "metadata": {
    "scrolled": true
   },
   "outputs": [
    {
     "data": {
      "image/png": "[encoded data removed]",
      "text/plain": [
       "<Figure size 504x504 with 1 Axes>"
      ]
     },
     "metadata": {},
     "output_type": "display_data"
    }
   ],
   "source": [
    "#pie chart de la distribution des categories de concentration de proteines\n",
    "y = np.array([60.882855, 36.572867, 2.544278])\n",
    "mylabels = [\"low\", \"middle\", \"high\"]\n",
    "def func(pct, allvalues):\n",
    "    absolute = int(pct / 100.*np.sum(allvalues))\n",
    "    return \"{:.1f}%\\n\".format(pct, absolute)\n",
    "fig, ax = plt.subplots(figsize =(7, 7))\n",
    "wedges, texts, autotexts = ax.pie(y, \n",
    "                                  autopct = lambda pct: func(pct, y), \n",
    "                                  labels = mylabels,\n",
    "                                  shadow = True,\n",
    "                                  colors = ['yellow','orange','red'],\n",
    "                                  startangle = 90,\n",
    "                                  textprops = dict(color =\"black\"))\n",
    "ax.legend(wedges, mylabels,\n",
    "          title =\"Grammes of protein/100g of product\",\n",
    "          loc =\"center left\",\n",
    "          bbox_to_anchor =(1, 0, 0.5, 1))\n",
    "  \n",
    "plt.setp(autotexts, size = 8, weight =\"bold\")\n",
    "ax.set_title(\"Distribution in percent of protein's concentration contained in 100g of vegetarian products\")\n",
    "plt.show() "
   ]
  },
  {
   "cell_type": "code",
   "execution_count": 59,
   "id": "79e78311",
   "metadata": {},
   "outputs": [
    {
     "name": "stderr",
     "output_type": "stream",
     "text": [
      "<ipython-input-59-c372e14a3bed>:10: SettingWithCopyWarning: \n",
      "A value is trying to be set on a copy of a slice from a DataFrame.\n",
      "Try using .loc[row_indexer,col_indexer] = value instead\n",
      "\n",
      "See the caveats in the documentation: https://pandas.pydata.org/pandas-docs/stable/user_guide/indexing.html#returning-a-view-versus-a-copy\n",
      "  dff['rating_f'] = rating_f\n"
     ]
    },
    {
     "data": {
      "text/html": [
       "<div>\n",
       "<style scoped>\n",
       "    .dataframe tbody tr th:only-of-type {\n",
       "        vertical-align: middle;\n",
       "    }\n",
       "\n",
       "    .dataframe tbody tr th {\n",
       "        vertical-align: top;\n",
       "    }\n",
       "\n",
       "    .dataframe thead th {\n",
       "        text-align: right;\n",
       "    }\n",
       "</style>\n",
       "<table border=\"1\" class=\"dataframe\">\n",
       "  <thead>\n",
       "    <tr style=\"text-align: right;\">\n",
       "      <th></th>\n",
       "      <th>code</th>\n",
       "      <th>url</th>\n",
       "      <th>product_name</th>\n",
       "      <th>countries_en</th>\n",
       "      <th>ingredients_text</th>\n",
       "      <th>energy-kcal_100g</th>\n",
       "      <th>fat_100g</th>\n",
       "      <th>proteins_100g</th>\n",
       "      <th>fr</th>\n",
       "      <th>rating_p</th>\n",
       "      <th>rating_f</th>\n",
       "    </tr>\n",
       "  </thead>\n",
       "  <tbody>\n",
       "    <tr>\n",
       "      <th>15828</th>\n",
       "      <td>14113912112</td>\n",
       "      <td>http://world-en.openfoodfacts.org/product/0014...</td>\n",
       "      <td>pistachios salt &amp; pepper</td>\n",
       "      <td>france</td>\n",
       "      <td>pistaches 96%, sel 2%, poivre, sucre, poudre d...</td>\n",
       "      <td>NaN</td>\n",
       "      <td>46.0</td>\n",
       "      <td>21.4</td>\n",
       "      <td>fr</td>\n",
       "      <td>low</td>\n",
       "      <td>high</td>\n",
       "    </tr>\n",
       "    <tr>\n",
       "      <th>15829</th>\n",
       "      <td>14113912341</td>\n",
       "      <td>http://world-en.openfoodfacts.org/product/0014...</td>\n",
       "      <td>pistaches au piment doux</td>\n",
       "      <td>france</td>\n",
       "      <td>pistaches (95%), sucre (2.5%). sel (2.4%), pou...</td>\n",
       "      <td>577.0</td>\n",
       "      <td>45.2</td>\n",
       "      <td>20.0</td>\n",
       "      <td>fr</td>\n",
       "      <td>low</td>\n",
       "      <td>high</td>\n",
       "    </tr>\n",
       "    <tr>\n",
       "      <th>15831</th>\n",
       "      <td>14113912860</td>\n",
       "      <td>http://world-en.openfoodfacts.org/product/0014...</td>\n",
       "      <td>pistaches xxl poivre &amp; sel</td>\n",
       "      <td>france</td>\n",
       "      <td>_pistaches_ (96%), sel (2,5%), poivre (0,5%), ...</td>\n",
       "      <td>NaN</td>\n",
       "      <td>46.0</td>\n",
       "      <td>21.4</td>\n",
       "      <td>fr</td>\n",
       "      <td>low</td>\n",
       "      <td>high</td>\n",
       "    </tr>\n",
       "    <tr>\n",
       "      <th>15832</th>\n",
       "      <td>14113912877</td>\n",
       "      <td>http://world-en.openfoodfacts.org/product/0014...</td>\n",
       "      <td>wonderful pistachios sweet chili</td>\n",
       "      <td>france</td>\n",
       "      <td>_pistaches_, sucre (2.5%). sel (2.4%). poudre ...</td>\n",
       "      <td>577.0</td>\n",
       "      <td>45.2</td>\n",
       "      <td>20.0</td>\n",
       "      <td>fr</td>\n",
       "      <td>low</td>\n",
       "      <td>high</td>\n",
       "    </tr>\n",
       "    <tr>\n",
       "      <th>24502</th>\n",
       "      <td>199841</td>\n",
       "      <td>http://world-en.openfoodfacts.org/product/0019...</td>\n",
       "      <td>red leicester</td>\n",
       "      <td>france</td>\n",
       "      <td>fromage red leicester (lait)· colorant rocou.</td>\n",
       "      <td>390.0</td>\n",
       "      <td>32.0</td>\n",
       "      <td>25.5</td>\n",
       "      <td>fr</td>\n",
       "      <td>middle</td>\n",
       "      <td>high</td>\n",
       "    </tr>\n",
       "    <tr>\n",
       "      <th>...</th>\n",
       "      <td>...</td>\n",
       "      <td>...</td>\n",
       "      <td>...</td>\n",
       "      <td>...</td>\n",
       "      <td>...</td>\n",
       "      <td>...</td>\n",
       "      <td>...</td>\n",
       "      <td>...</td>\n",
       "      <td>...</td>\n",
       "      <td>...</td>\n",
       "      <td>...</td>\n",
       "    </tr>\n",
       "    <tr>\n",
       "      <th>503136</th>\n",
       "      <td>4800092330131</td>\n",
       "      <td>http://world-en.openfoodfacts.org/product/4800...</td>\n",
       "      <td>ding dong mixed nuts</td>\n",
       "      <td>france</td>\n",
       "      <td>arachides pois verts maïs fèves sel iodé sucre...</td>\n",
       "      <td>533.0</td>\n",
       "      <td>30.0</td>\n",
       "      <td>20.0</td>\n",
       "      <td>fr</td>\n",
       "      <td>low</td>\n",
       "      <td>high</td>\n",
       "    </tr>\n",
       "    <tr>\n",
       "      <th>503771</th>\n",
       "      <td>4901280900089</td>\n",
       "      <td>http://world-en.openfoodfacts.org/product/4901...</td>\n",
       "      <td>thé au jasmin</td>\n",
       "      <td>france</td>\n",
       "      <td>thé vert &amp; fleurs de jasmin</td>\n",
       "      <td>359.0</td>\n",
       "      <td>2.0</td>\n",
       "      <td>28.2</td>\n",
       "      <td>fr</td>\n",
       "      <td>middle</td>\n",
       "      <td>low</td>\n",
       "    </tr>\n",
       "    <tr>\n",
       "      <th>503954</th>\n",
       "      <td>4902401217437</td>\n",
       "      <td>http://world-en.openfoodfacts.org/product/4902...</td>\n",
       "      <td>hanamaruki instant aka miso soup - soya bean p...</td>\n",
       "      <td>france</td>\n",
       "      <td>soupe miso rouge instannée kd (aka ml soshiru)...</td>\n",
       "      <td>349.0</td>\n",
       "      <td>9.5</td>\n",
       "      <td>22.0</td>\n",
       "      <td>fr</td>\n",
       "      <td>low</td>\n",
       "      <td>middle</td>\n",
       "    </tr>\n",
       "    <tr>\n",
       "      <th>505943</th>\n",
       "      <td>5000171054852</td>\n",
       "      <td>http://world-en.openfoodfacts.org/product/5000...</td>\n",
       "      <td>infusions tuna</td>\n",
       "      <td>france</td>\n",
       "      <td>bonite à ventre rayé (skipjack tuna) (80%), hu...</td>\n",
       "      <td>202.0</td>\n",
       "      <td>11.5</td>\n",
       "      <td>24.2</td>\n",
       "      <td>fr</td>\n",
       "      <td>low</td>\n",
       "      <td>middle</td>\n",
       "    </tr>\n",
       "    <tr>\n",
       "      <th>506347</th>\n",
       "      <td>5000246722006</td>\n",
       "      <td>http://world-en.openfoodfacts.org/product/5000...</td>\n",
       "      <td>arla proffesional british mild colouredslices</td>\n",
       "      <td>france</td>\n",
       "      <td>_lait_, sel, _ferments lactiques_, enzyme coag...</td>\n",
       "      <td>416.0</td>\n",
       "      <td>35.0</td>\n",
       "      <td>25.0</td>\n",
       "      <td>fr</td>\n",
       "      <td>low</td>\n",
       "      <td>high</td>\n",
       "    </tr>\n",
       "  </tbody>\n",
       "</table>\n",
       "<p>4133 rows × 11 columns</p>\n",
       "</div>"
      ],
      "text/plain": [
       "                 code                                                url  \\\n",
       "15828     14113912112  http://world-en.openfoodfacts.org/product/0014...   \n",
       "15829     14113912341  http://world-en.openfoodfacts.org/product/0014...   \n",
       "15831     14113912860  http://world-en.openfoodfacts.org/product/0014...   \n",
       "15832     14113912877  http://world-en.openfoodfacts.org/product/0014...   \n",
       "24502          199841  http://world-en.openfoodfacts.org/product/0019...   \n",
       "...               ...                                                ...   \n",
       "503136  4800092330131  http://world-en.openfoodfacts.org/product/4800...   \n",
       "503771  4901280900089  http://world-en.openfoodfacts.org/product/4901...   \n",
       "503954  4902401217437  http://world-en.openfoodfacts.org/product/4902...   \n",
       "505943  5000171054852  http://world-en.openfoodfacts.org/product/5000...   \n",
       "506347  5000246722006  http://world-en.openfoodfacts.org/product/5000...   \n",
       "\n",
       "                                             product_name countries_en  \\\n",
       "15828                            pistachios salt & pepper       france   \n",
       "15829                            pistaches au piment doux       france   \n",
       "15831                          pistaches xxl poivre & sel       france   \n",
       "15832                    wonderful pistachios sweet chili       france   \n",
       "24502                                       red leicester       france   \n",
       "...                                                   ...          ...   \n",
       "503136                               ding dong mixed nuts       france   \n",
       "503771                                      thé au jasmin       france   \n",
       "503954  hanamaruki instant aka miso soup - soya bean p...       france   \n",
       "505943                                     infusions tuna       france   \n",
       "506347      arla proffesional british mild colouredslices       france   \n",
       "\n",
       "                                         ingredients_text  energy-kcal_100g  \\\n",
       "15828   pistaches 96%, sel 2%, poivre, sucre, poudre d...               NaN   \n",
       "15829   pistaches (95%), sucre (2.5%). sel (2.4%), pou...             577.0   \n",
       "15831   _pistaches_ (96%), sel (2,5%), poivre (0,5%), ...               NaN   \n",
       "15832   _pistaches_, sucre (2.5%). sel (2.4%). poudre ...             577.0   \n",
       "24502       fromage red leicester (lait)· colorant rocou.             390.0   \n",
       "...                                                   ...               ...   \n",
       "503136  arachides pois verts maïs fèves sel iodé sucre...             533.0   \n",
       "503771                        thé vert & fleurs de jasmin             359.0   \n",
       "503954  soupe miso rouge instannée kd (aka ml soshiru)...             349.0   \n",
       "505943  bonite à ventre rayé (skipjack tuna) (80%), hu...             202.0   \n",
       "506347  _lait_, sel, _ferments lactiques_, enzyme coag...             416.0   \n",
       "\n",
       "        fat_100g  proteins_100g  fr rating_p rating_f  \n",
       "15828       46.0           21.4  fr      low     high  \n",
       "15829       45.2           20.0  fr      low     high  \n",
       "15831       46.0           21.4  fr      low     high  \n",
       "15832       45.2           20.0  fr      low     high  \n",
       "24502       32.0           25.5  fr   middle     high  \n",
       "...          ...            ...  ..      ...      ...  \n",
       "503136      30.0           20.0  fr      low     high  \n",
       "503771       2.0           28.2  fr   middle      low  \n",
       "503954       9.5           22.0  fr      low   middle  \n",
       "505943      11.5           24.2  fr      low   middle  \n",
       "506347      35.0           25.0  fr      low     high  \n",
       "\n",
       "[4133 rows x 11 columns]"
      ]
     },
     "execution_count": 59,
     "metadata": {},
     "output_type": "execute_result"
    }
   ],
   "source": [
    "#categorisation des concentrations en matiere grasse\n",
    "rating_f = []\n",
    "for row in dff['fat_100g']:\n",
    "        if row <= 5 :    \n",
    "            rating_f.append('low')\n",
    "        elif 20 >= row > 5:\n",
    "            rating_f.append('middle')\n",
    "        else:           \n",
    "            rating_f.append('high')\n",
    "dff['rating_f'] = rating_f\n",
    "#verifier\n",
    "dff"
   ]
  },
  {
   "cell_type": "code",
   "execution_count": 60,
   "id": "b92c3dab",
   "metadata": {},
   "outputs": [
    {
     "data": {
      "text/plain": [
       "<matplotlib.collections.PathCollection at 0x21270650bb0>"
      ]
     },
     "execution_count": 60,
     "metadata": {},
     "output_type": "execute_result"
    },
    {
     "data": {
      "image/png": "[encoded data removed]",
      "text/plain": [
       "<Figure size 432x288 with 1 Axes>"
      ]
     },
     "metadata": {
      "needs_background": "light"
     },
     "output_type": "display_data"
    }
   ],
   "source": [
    "#nuage de points de la distribution des concentrations en matiere grasse\n",
    "plt.ylabel('fat\\'s concentration category')\n",
    "plt.xlabel('fat\\'s concentration')\n",
    "plt.title('Distribution of fat\\'s concentration VS fat\\'s concentration category')\n",
    "plt.scatter(dff['fat_100g'], dff['rating_f'])"
   ]
  },
  {
   "cell_type": "code",
   "execution_count": 61,
   "id": "46399a12",
   "metadata": {},
   "outputs": [
    {
     "data": {
      "text/plain": [
       "18.054160510797217"
      ]
     },
     "execution_count": 61,
     "metadata": {},
     "output_type": "execute_result"
    }
   ],
   "source": [
    "#Calcul de la moyenne, médiane, permier et troisième quartile, variance, ecart-type et espace interquatile pour les concentrations en matiere grasse\n",
    "\n",
    "mf=np.mean(dff['fat_100g'])\n",
    "mf"
   ]
  },
  {
   "cell_type": "code",
   "execution_count": 62,
   "id": "d1eaf366",
   "metadata": {},
   "outputs": [
    {
     "data": {
      "text/plain": [
       "15.0"
      ]
     },
     "execution_count": 62,
     "metadata": {},
     "output_type": "execute_result"
    }
   ],
   "source": [
    "mef=np.median(dff['fat_100g'])\n",
    "mef"
   ]
  },
  {
   "cell_type": "code",
   "execution_count": 63,
   "id": "66aeb0e6",
   "metadata": {},
   "outputs": [
    {
     "data": {
      "text/plain": [
       "6.2"
      ]
     },
     "execution_count": 63,
     "metadata": {},
     "output_type": "execute_result"
    }
   ],
   "source": [
    "q1f=np.percentile(dff['fat_100g'], 25)\n",
    "q1f"
   ]
  },
  {
   "cell_type": "code",
   "execution_count": 64,
   "id": "5aa35185",
   "metadata": {},
   "outputs": [
    {
     "data": {
      "text/plain": [
       "29.0"
      ]
     },
     "execution_count": 64,
     "metadata": {},
     "output_type": "execute_result"
    }
   ],
   "source": [
    "q3f=np.percentile(dff['fat_100g'], 75)\n",
    "q3f"
   ]
  },
  {
   "cell_type": "code",
   "execution_count": 65,
   "id": "0fc08b1c",
   "metadata": {},
   "outputs": [
    {
     "data": {
      "text/plain": [
       "194.18"
      ]
     },
     "execution_count": 65,
     "metadata": {},
     "output_type": "execute_result"
    }
   ],
   "source": [
    "vf=np.var(dff['fat_100g'])\n",
    "round(vf, 2)"
   ]
  },
  {
   "cell_type": "code",
   "execution_count": 66,
   "id": "65b045f9",
   "metadata": {},
   "outputs": [
    {
     "data": {
      "text/plain": [
       "13.93"
      ]
     },
     "execution_count": 66,
     "metadata": {},
     "output_type": "execute_result"
    }
   ],
   "source": [
    "ef=np.std(dff['fat_100g'])\n",
    "round(ef, 2)"
   ]
  },
  {
   "cell_type": "code",
   "execution_count": 67,
   "id": "267e34e6",
   "metadata": {},
   "outputs": [
    {
     "data": {
      "text/plain": [
       "22.8"
      ]
     },
     "execution_count": 67,
     "metadata": {},
     "output_type": "execute_result"
    }
   ],
   "source": [
    "eqf = q3f - q1f\n",
    "eqf"
   ]
  },
  {
   "cell_type": "code",
   "execution_count": 68,
   "id": "09ab2808",
   "metadata": {},
   "outputs": [
    {
     "data": {
      "image/png": "[encoded data removed]",
      "text/plain": [
       "<Figure size 432x288 with 1 Axes>"
      ]
     },
     "metadata": {
      "needs_background": "light"
     },
     "output_type": "display_data"
    }
   ],
   "source": [
    "#boxplot de la distribution des concentrations en matiere grasse\n",
    "fig1, ax1 = plt.subplots()\n",
    "ax1.set_ylim(0,100)\n",
    "ax1.set_ylabel('fat\\'s concentration')\n",
    "ax1.set_title('Distribution des produits selon leur concentration en matière grasse pour 100g de produit');\n",
    "ax1.boxplot(dff['fat_100g']);"
   ]
  },
  {
   "cell_type": "code",
   "execution_count": 69,
   "id": "dd014b11",
   "metadata": {},
   "outputs": [
    {
     "data": {
      "image/png": "[encoded data removed]",
      "text/plain": [
       "<Figure size 432x288 with 1 Axes>"
      ]
     },
     "metadata": {
      "needs_background": "light"
     },
     "output_type": "display_data"
    }
   ],
   "source": [
    "#distribution normale des concentrations en matiere grasse\n",
    "x_min = 0\n",
    "x_max = 100\n",
    "\n",
    "mean = mf \n",
    "std = ef\n",
    "\n",
    "x = np.linspace(x_min, x_max, 100)\n",
    "\n",
    "y = scipy.stats.norm.pdf(x,mean,std)\n",
    "\n",
    "plt.plot(x,y, color='black')\n",
    "\n",
    "#----------------------------------------------------------------------------------------#\n",
    "# fill area 1\n",
    "\n",
    "pt1 = mean + std\n",
    "plt.plot([pt1 ,pt1 ],[0.0,scipy.stats.norm.pdf(pt1 ,mean, std)], color='black')\n",
    "\n",
    "pt2 = mean - std\n",
    "plt.plot([pt2 ,pt2 ],[0.0,scipy.stats.norm.pdf(pt2 ,mean, std)], color='black')\n",
    "\n",
    "ptx = np.linspace(pt1, pt2, 10)\n",
    "pty = scipy.stats.norm.pdf(ptx,mean,std)\n",
    "\n",
    "plt.fill_between(ptx, pty, color='#0b559f', alpha=1.0)\n",
    "\n",
    "#----------------------------------------------------------------------------------------#\n",
    "# fill area 2\n",
    "\n",
    "pt1 = mean + std\n",
    "plt.plot([pt1 ,pt1 ],[0.0,scipy.stats.norm.pdf(pt1 ,mean, std)], color='black')\n",
    "\n",
    "pt2 = mean + 2.0 * std\n",
    "plt.plot([pt2 ,pt2 ],[0.0,scipy.stats.norm.pdf(pt2 ,mean, std)], color='black')\n",
    "\n",
    "ptx = np.linspace(pt1, pt2, 10)\n",
    "pty = scipy.stats.norm.pdf(ptx,mean,std)\n",
    "\n",
    "plt.fill_between(ptx, pty, color='#2b7bba', alpha=1.0)\n",
    "\n",
    "#----------------------------------------------------------------------------------------#\n",
    "# fill area 3\n",
    "\n",
    "pt1 = mean - std\n",
    "plt.plot([pt1 ,pt1 ],[0.0,scipy.stats.norm.pdf(pt1 ,mean, std)], color='black')\n",
    "\n",
    "pt2 = mean - 2.0 * std\n",
    "plt.plot([pt2 ,pt2 ],[0.0,scipy.stats.norm.pdf(pt2 ,mean, std)], color='black')\n",
    "\n",
    "ptx = np.linspace(pt1, pt2, 10)\n",
    "pty = scipy.stats.norm.pdf(ptx,mean,std)\n",
    "\n",
    "plt.fill_between(ptx, pty, color='#2b7bba', alpha=1.0)\n",
    "\n",
    "#----------------------------------------------------------------------------------------#\n",
    "# fill area 4\n",
    "\n",
    "pt1 = mean + 2.0 * std\n",
    "plt.plot([pt1 ,pt1 ],[0.0,scipy.stats.norm.pdf(pt1 ,mean, std)], color='black')\n",
    "\n",
    "pt2 = mean + 3.0 * std\n",
    "plt.plot([pt2 ,pt2 ],[0.0,scipy.stats.norm.pdf(pt2 ,mean, std)], color='black')\n",
    "\n",
    "ptx = np.linspace(pt1, pt2, 10)\n",
    "pty = scipy.stats.norm.pdf(ptx,mean,std)\n",
    "\n",
    "plt.fill_between(ptx, pty, color='#539ecd', alpha=1.0)\n",
    "\n",
    "#----------------------------------------------------------------------------------------#\n",
    "# fill area 5\n",
    "\n",
    "pt1 = mean - 2.0 * std\n",
    "plt.plot([pt1 ,pt1 ],[0.0,scipy.stats.norm.pdf(pt1 ,mean, std)], color='black')\n",
    "\n",
    "pt2 = mean - 3.0 * std\n",
    "plt.plot([pt2 ,pt2 ],[0.0,scipy.stats.norm.pdf(pt2 ,mean, std)], color='black')\n",
    "\n",
    "ptx = np.linspace(pt1, pt2, 10)\n",
    "pty = scipy.stats.norm.pdf(ptx,mean,std)\n",
    "\n",
    "plt.fill_between(ptx, pty, color='#539ecd', alpha=1.0)\n",
    "\n",
    "#----------------------------------------------------------------------------------------#\n",
    "# fill area 6\n",
    "\n",
    "pt1 = mean + 3.0 * std\n",
    "plt.plot([pt1 ,pt1 ],[0.0,scipy.stats.norm.pdf(pt1 ,mean, std)], color='black')\n",
    "\n",
    "pt2 = mean + 10.0 *std\n",
    "plt.plot([pt2 ,pt2 ],[0.0,scipy.stats.norm.pdf(pt2 ,mean, std)], color='black')\n",
    "\n",
    "ptx = np.linspace(pt1, pt2, 10)\n",
    "pty = scipy.stats.norm.pdf(ptx,mean,std)\n",
    "\n",
    "plt.fill_between(ptx, pty, color='#89bedc', alpha=1.0)\n",
    "\n",
    "#----------------------------------------------------------------------------------------#\n",
    "# fill area 7\n",
    "\n",
    "pt1 = mean - 3.0 * std\n",
    "plt.plot([pt1 ,pt1 ],[0.0,scipy.stats.norm.pdf(pt1 ,mean, std)], color='black')\n",
    "\n",
    "pt2 = mean - 10.0 * std\n",
    "plt.plot([pt2 ,pt2 ],[0.0,scipy.stats.norm.pdf(pt2 ,mean, std)], color='black')\n",
    "\n",
    "ptx = np.linspace(pt1, pt2, 10)\n",
    "pty = scipy.stats.norm.pdf(ptx,mean,std)\n",
    "\n",
    "plt.fill_between(ptx, pty, color='#89bedc', alpha=1.0)\n",
    "\n",
    "#----------------------------------------------------------------------------------------#\n",
    "\n",
    "plt.grid()\n",
    "\n",
    "plt.xlim(x_min,x_max)\n",
    "plt.ylim(0,0.05)\n",
    "\n",
    "plt.title('Normal distribution of products by fat concentration',fontsize=10)\n",
    "\n",
    "plt.xlabel('fat\\'s concentration')\n",
    "plt.ylabel('Normal Distribution')\n",
    "\n",
    "plt.savefig(\"normal_distribution_2.png\")\n",
    "plt.show()"
   ]
  },
  {
   "cell_type": "code",
   "execution_count": 70,
   "id": "76f55e43",
   "metadata": {},
   "outputs": [
    {
     "data": {
      "text/plain": [
       "<AxesSubplot:>"
      ]
     },
     "execution_count": 70,
     "metadata": {},
     "output_type": "execute_result"
    },
    {
     "data": {
      "image/png": "[encoded data removed]",
      "text/plain": [
       "<Figure size 432x288 with 1 Axes>"
      ]
     },
     "metadata": {
      "needs_background": "light"
     },
     "output_type": "display_data"
    }
   ],
   "source": [
    "#histogramme de la distribution des concentrations en matiere grasse\n",
    "dff['rating_f'].hist(ylabelsize=10)"
   ]
  },
  {
   "cell_type": "code",
   "execution_count": 71,
   "id": "a3459d6d",
   "metadata": {},
   "outputs": [
    {
     "data": {
      "text/plain": [
       "high      41.688846\n",
       "middle    35.809339\n",
       "low       22.501815\n",
       "Name: rating_f, dtype: float64"
      ]
     },
     "execution_count": 71,
     "metadata": {},
     "output_type": "execute_result"
    }
   ],
   "source": [
    "#part en pourcentage de chaque categorie de concentration de matiere grasse\n",
    "(dff['rating_f'].value_counts()/dff['rating_f'].count())*100"
   ]
  },
  {
   "cell_type": "code",
   "execution_count": 72,
   "id": "fb7620ad",
   "metadata": {},
   "outputs": [
    {
     "data": {
      "image/png": "[encoded data removed]",
      "text/plain": [
       "<Figure size 720x504 with 1 Axes>"
      ]
     },
     "metadata": {},
     "output_type": "display_data"
    }
   ],
   "source": [
    "#pie chart de la répartition en pourcentage des categories de concentration de matiere grasse\n",
    "y = np.array([19.597386, 29.099377, 51.303237])\n",
    "mylabels = [\"low\", \"middle\", \"high\"]\n",
    "def func(pct, allvalues):\n",
    "    absolute = int(pct / 100.*np.sum(allvalues))\n",
    "    return \"{:.1f}%\\n\".format(pct, absolute)\n",
    "fig, ax = plt.subplots(figsize =(10, 7))\n",
    "wedges, texts, autotexts = ax.pie(y, \n",
    "                                  autopct = lambda pct: func(pct, y), \n",
    "                                  labels = mylabels,\n",
    "                                  shadow = True,\n",
    "                                  colors = ['yellow','orange','red'],\n",
    "                                  startangle = 90,\n",
    "                                  textprops = dict(color =\"black\"))\n",
    "ax.legend(wedges, mylabels,\n",
    "          title =\"Grammes of fat/100g of product\",\n",
    "          loc =\"center left\",\n",
    "          bbox_to_anchor =(1, 0, 0.5, 1))\n",
    "  \n",
    "plt.setp(autotexts, size = 8, weight =\"bold\")\n",
    "ax.set_title(\"Distribution in percent of fat's concentration contained in 100g of vegetarian products\")\n",
    "plt.show() "
   ]
  },
  {
   "cell_type": "code",
   "execution_count": 73,
   "id": "54d1ebad",
   "metadata": {},
   "outputs": [
    {
     "data": {
      "text/html": [
       "<div>\n",
       "<style scoped>\n",
       "    .dataframe tbody tr th:only-of-type {\n",
       "        vertical-align: middle;\n",
       "    }\n",
       "\n",
       "    .dataframe tbody tr th {\n",
       "        vertical-align: top;\n",
       "    }\n",
       "\n",
       "    .dataframe thead th {\n",
       "        text-align: right;\n",
       "    }\n",
       "</style>\n",
       "<table border=\"1\" class=\"dataframe\">\n",
       "  <thead>\n",
       "    <tr style=\"text-align: right;\">\n",
       "      <th></th>\n",
       "      <th>code</th>\n",
       "      <th>url</th>\n",
       "      <th>product_name</th>\n",
       "      <th>countries_en</th>\n",
       "      <th>ingredients_text</th>\n",
       "      <th>energy-kcal_100g</th>\n",
       "      <th>fat_100g</th>\n",
       "      <th>proteins_100g</th>\n",
       "      <th>fr</th>\n",
       "      <th>rating_p</th>\n",
       "      <th>rating_f</th>\n",
       "    </tr>\n",
       "  </thead>\n",
       "  <tbody>\n",
       "    <tr>\n",
       "      <th>15828</th>\n",
       "      <td>14113912112</td>\n",
       "      <td>http://world-en.openfoodfacts.org/product/0014...</td>\n",
       "      <td>pistachios salt &amp; pepper</td>\n",
       "      <td>france</td>\n",
       "      <td>pistaches 96%, sel 2%, poivre, sucre, poudre d...</td>\n",
       "      <td>NaN</td>\n",
       "      <td>46.0</td>\n",
       "      <td>21.4</td>\n",
       "      <td>fr</td>\n",
       "      <td>low</td>\n",
       "      <td>high</td>\n",
       "    </tr>\n",
       "    <tr>\n",
       "      <th>15829</th>\n",
       "      <td>14113912341</td>\n",
       "      <td>http://world-en.openfoodfacts.org/product/0014...</td>\n",
       "      <td>pistaches au piment doux</td>\n",
       "      <td>france</td>\n",
       "      <td>pistaches (95%), sucre (2.5%). sel (2.4%), pou...</td>\n",
       "      <td>577.0</td>\n",
       "      <td>45.2</td>\n",
       "      <td>20.0</td>\n",
       "      <td>fr</td>\n",
       "      <td>low</td>\n",
       "      <td>high</td>\n",
       "    </tr>\n",
       "    <tr>\n",
       "      <th>15831</th>\n",
       "      <td>14113912860</td>\n",
       "      <td>http://world-en.openfoodfacts.org/product/0014...</td>\n",
       "      <td>pistaches xxl poivre &amp; sel</td>\n",
       "      <td>france</td>\n",
       "      <td>_pistaches_ (96%), sel (2,5%), poivre (0,5%), ...</td>\n",
       "      <td>NaN</td>\n",
       "      <td>46.0</td>\n",
       "      <td>21.4</td>\n",
       "      <td>fr</td>\n",
       "      <td>low</td>\n",
       "      <td>high</td>\n",
       "    </tr>\n",
       "    <tr>\n",
       "      <th>15832</th>\n",
       "      <td>14113912877</td>\n",
       "      <td>http://world-en.openfoodfacts.org/product/0014...</td>\n",
       "      <td>wonderful pistachios sweet chili</td>\n",
       "      <td>france</td>\n",
       "      <td>_pistaches_, sucre (2.5%). sel (2.4%). poudre ...</td>\n",
       "      <td>577.0</td>\n",
       "      <td>45.2</td>\n",
       "      <td>20.0</td>\n",
       "      <td>fr</td>\n",
       "      <td>low</td>\n",
       "      <td>high</td>\n",
       "    </tr>\n",
       "    <tr>\n",
       "      <th>24502</th>\n",
       "      <td>199841</td>\n",
       "      <td>http://world-en.openfoodfacts.org/product/0019...</td>\n",
       "      <td>red leicester</td>\n",
       "      <td>france</td>\n",
       "      <td>fromage red leicester (lait)· colorant rocou.</td>\n",
       "      <td>390.0</td>\n",
       "      <td>32.0</td>\n",
       "      <td>25.5</td>\n",
       "      <td>fr</td>\n",
       "      <td>middle</td>\n",
       "      <td>high</td>\n",
       "    </tr>\n",
       "  </tbody>\n",
       "</table>\n",
       "</div>"
      ],
      "text/plain": [
       "              code                                                url  \\\n",
       "15828  14113912112  http://world-en.openfoodfacts.org/product/0014...   \n",
       "15829  14113912341  http://world-en.openfoodfacts.org/product/0014...   \n",
       "15831  14113912860  http://world-en.openfoodfacts.org/product/0014...   \n",
       "15832  14113912877  http://world-en.openfoodfacts.org/product/0014...   \n",
       "24502       199841  http://world-en.openfoodfacts.org/product/0019...   \n",
       "\n",
       "                           product_name countries_en  \\\n",
       "15828          pistachios salt & pepper       france   \n",
       "15829          pistaches au piment doux       france   \n",
       "15831        pistaches xxl poivre & sel       france   \n",
       "15832  wonderful pistachios sweet chili       france   \n",
       "24502                     red leicester       france   \n",
       "\n",
       "                                        ingredients_text  energy-kcal_100g  \\\n",
       "15828  pistaches 96%, sel 2%, poivre, sucre, poudre d...               NaN   \n",
       "15829  pistaches (95%), sucre (2.5%). sel (2.4%), pou...             577.0   \n",
       "15831  _pistaches_ (96%), sel (2,5%), poivre (0,5%), ...               NaN   \n",
       "15832  _pistaches_, sucre (2.5%). sel (2.4%). poudre ...             577.0   \n",
       "24502      fromage red leicester (lait)· colorant rocou.             390.0   \n",
       "\n",
       "       fat_100g  proteins_100g  fr rating_p rating_f  \n",
       "15828      46.0           21.4  fr      low     high  \n",
       "15829      45.2           20.0  fr      low     high  \n",
       "15831      46.0           21.4  fr      low     high  \n",
       "15832      45.2           20.0  fr      low     high  \n",
       "24502      32.0           25.5  fr   middle     high  "
      ]
     },
     "execution_count": 73,
     "metadata": {},
     "output_type": "execute_result"
    }
   ],
   "source": [
    "#verifier\n",
    "dff.head()"
   ]
  },
  {
   "cell_type": "code",
   "execution_count": 74,
   "id": "a9edf6b2",
   "metadata": {
    "scrolled": true
   },
   "outputs": [
    {
     "data": {
      "image/png": "[encoded data removed]",
      "text/plain": [
       "<Figure size 432x288 with 1 Axes>"
      ]
     },
     "metadata": {
      "needs_background": "light"
     },
     "output_type": "display_data"
    }
   ],
   "source": [
    "#analyse mutltivariée represenatée avec un nuage de points\n",
    "x = dff['proteins_100g']\n",
    "y = dff['rating_f']\n",
    "plt.title('protein\\'s concentration vs fat\\'s concentration category')\n",
    "plt.xlabel('protein\\'s concentration')\n",
    "plt.ylabel('fat\\'s concentration category')\n",
    "plt.plot(x, y, 'o', color='black', markerfacecolor='white',\n",
    "         markeredgecolor='gray');"
   ]
  },
  {
   "cell_type": "code",
   "execution_count": 75,
   "id": "5d8f7cc5",
   "metadata": {},
   "outputs": [
    {
     "data": {
      "text/plain": [
       "[<matplotlib.lines.Line2D at 0x212709c6d30>]"
      ]
     },
     "execution_count": 75,
     "metadata": {},
     "output_type": "execute_result"
    },
    {
     "data": {
      "image/png": "[encoded data removed]",
      "text/plain": [
       "<Figure size 432x288 with 1 Axes>"
      ]
     },
     "metadata": {
      "needs_background": "light"
     },
     "output_type": "display_data"
    }
   ],
   "source": [
    "#analyse mutltivariée represenatée avec un nuage de points\n",
    "x = dff['fat_100g']\n",
    "y = dff['rating_p']\n",
    "plt.title('fat\\'s concentration vs portein\\'s concentration category')\n",
    "plt.xlabel('fat\\'s concentration')\n",
    "plt.ylabel('portein\\'s concentration category')\n",
    "plt.plot(x, y, 'o', color='black', markerfacecolor='white',\n",
    "         markeredgecolor='gray')"
   ]
  },
  {
   "cell_type": "code",
   "execution_count": 76,
   "id": "287cedde",
   "metadata": {},
   "outputs": [
    {
     "data": {
      "text/plain": [
       "[<matplotlib.lines.Line2D at 0x21270a10fa0>]"
      ]
     },
     "execution_count": 76,
     "metadata": {},
     "output_type": "execute_result"
    },
    {
     "data": {
      "image/png": "[encoded data removed]",
      "text/plain": [
       "<Figure size 432x288 with 1 Axes>"
      ]
     },
     "metadata": {
      "needs_background": "light"
     },
     "output_type": "display_data"
    }
   ],
   "source": [
    "#analyse mutltivariée represenatée avec un nuage de points\n",
    "x = dff['proteins_100g']\n",
    "y = dff['fat_100g']\n",
    "plt.title('protein\\'s concentration vs fat\\'s concentration')\n",
    "plt.xlabel('protein\\'s concentration')\n",
    "plt.ylabel('fat\\'s concentration')\n",
    "plt.plot(x, y, 'o', color='black', markerfacecolor='white',\n",
    "         markeredgecolor='gray')"
   ]
  },
  {
   "cell_type": "code",
   "execution_count": 77,
   "id": "a0251691",
   "metadata": {},
   "outputs": [
    {
     "data": {
      "image/png": "[encoded data removed]",
      "text/plain": [
       "<Figure size 432x288 with 1 Axes>"
      ]
     },
     "metadata": {
      "needs_background": "light"
     },
     "output_type": "display_data"
    }
   ],
   "source": [
    "#analyse mutltivariée represenatée avec un nuage de points\n",
    "x = dff['rating_p']\n",
    "y = dff['rating_f']\n",
    "plt.title('protein\\'s concentration category vs fat\\'s concentration category')\n",
    "plt.xlabel('protein\\'s concentration category')\n",
    "plt.ylabel('fat\\'s concentration category')\n",
    "plt.plot(x, y, 'o', color='black', markerfacecolor='white',\n",
    "         markeredgecolor='gray');"
   ]
  },
  {
   "cell_type": "code",
   "execution_count": 78,
   "id": "b64e92ff",
   "metadata": {
    "scrolled": false
   },
   "outputs": [
    {
     "data": {
      "image/png": "[encoded data removed]",
      "text/plain": [
       "<Figure size 360x360 with 2 Axes>"
      ]
     },
     "metadata": {
      "needs_background": "light"
     },
     "output_type": "display_data"
    }
   ],
   "source": [
    "#heatmap des corrélations linéaires des variables quantitatives\n",
    "corr = dff.corr()\n",
    "fig, ax = plt.subplots(figsize=(5,5))\n",
    "ax = sns.heatmap(corr, annot=True, fmt=\".2f\", annot_kws={'size':10}, \n",
    "                center=0, cmap=\"coolwarm\")\n",
    "plt.title(f\"Heatmap des corrélations linéaires\\n\")\n",
    "plt.show()"
   ]
  },
  {
   "cell_type": "code",
   "execution_count": 79,
   "id": "7622f219",
   "metadata": {},
   "outputs": [
    {
     "data": {
      "text/plain": [
       "F_onewayResult(statistic=43.00863391198827, pvalue=3.2616695017110025e-19)"
      ]
     },
     "execution_count": 79,
     "metadata": {},
     "output_type": "execute_result"
    }
   ],
   "source": [
    "#Oneway ANOVA pour les categories de concentration de proteines\n",
    "stats.f_oneway(dff['proteins_100g'][dff['rating_f'] == 'high'],\n",
    "               dff['proteins_100g'][dff['rating_f'] == 'low'],\n",
    "               dff['proteins_100g'][dff['rating_f'] == 'middle'])"
   ]
  },
  {
   "cell_type": "code",
   "execution_count": 80,
   "id": "ad60354a",
   "metadata": {},
   "outputs": [
    {
     "data": {
      "text/plain": [
       "F_onewayResult(statistic=112.96988239065014, pvalue=1.7092447784097928e-48)"
      ]
     },
     "execution_count": 80,
     "metadata": {},
     "output_type": "execute_result"
    }
   ],
   "source": [
    "#Oneway ANOVA pour les categories de concentration de matiere grasse\n",
    "stats.f_oneway(dff['fat_100g'][dff['rating_p'] == 'high'],\n",
    "               dff['fat_100g'][dff['rating_p'] == 'low'],\n",
    "               dff['fat_100g'][dff['rating_p'] == 'middle'])"
   ]
  },
  {
   "cell_type": "code",
   "execution_count": 81,
   "id": "5033db75",
   "metadata": {},
   "outputs": [
    {
     "data": {
      "image/png": "[encoded data removed]",
      "text/plain": [
       "<Figure size 360x360 with 1 Axes>"
      ]
     },
     "metadata": {
      "needs_background": "light"
     },
     "output_type": "display_data"
    }
   ],
   "source": [
    "#boxplot de la distribution des concentration en proteines selon les categories de concentration de matiere grasse\n",
    "fig = plt.figure(figsize= (5, 5))\n",
    "ax = fig.add_subplot(111)\n",
    "\n",
    "ax.set_title(\"Box Plot of protein's concentration by fat's concentration category\", fontsize= 20)\n",
    "ax.set\n",
    "\n",
    "data = [dff['proteins_100g'][dff['rating_f'] == 'low'],\n",
    "        dff['proteins_100g'][dff['rating_f'] == 'middle'],\n",
    "        dff['proteins_100g'][dff['rating_f'] == 'high']]\n",
    "\n",
    "ax.boxplot(data,\n",
    "           labels= ['Low', 'Middle', 'High'],\n",
    "           showmeans= True)\n",
    "\n",
    "plt.xlabel(\"protein's concentration category\")\n",
    "plt.ylabel(\"fat's concentration\")\n",
    "\n",
    "plt.show()"
   ]
  },
  {
   "cell_type": "code",
   "execution_count": 82,
   "id": "cc9f5485",
   "metadata": {},
   "outputs": [
    {
     "data": {
      "image/png": "[encoded data removed]",
      "text/plain": [
       "<Figure size 360x360 with 1 Axes>"
      ]
     },
     "metadata": {
      "needs_background": "light"
     },
     "output_type": "display_data"
    }
   ],
   "source": [
    "#boxplot de la distribution de la concentration en matiere grasse selon la categorie de concentration en proteines\n",
    "fig = plt.figure(figsize= (5, 5))\n",
    "ax = fig.add_subplot(111)\n",
    "\n",
    "ax.set_title(\"Box Plot of fat's concentration by protein's concentration category\", fontsize= 20)\n",
    "ax.set\n",
    "\n",
    "data = [dff['fat_100g'][dff['rating_p'] == 'low'],\n",
    "        dff['fat_100g'][dff['rating_p'] == 'middle'],\n",
    "        dff['fat_100g'][dff['rating_p'] == 'high']]\n",
    "\n",
    "ax.boxplot(data,\n",
    "           labels= ['Low', 'Middle', 'High'],\n",
    "           showmeans= True)\n",
    "\n",
    "plt.xlabel(\"fat's concentration category\")\n",
    "plt.ylabel(\"protein's concentration\")\n",
    "\n",
    "plt.show()"
   ]
  },
  {
   "cell_type": "code",
   "execution_count": 83,
   "id": "187e9384",
   "metadata": {
    "scrolled": true
   },
   "outputs": [
    {
     "data": {
      "text/html": [
       "<div>\n",
       "<style scoped>\n",
       "    .dataframe tbody tr th:only-of-type {\n",
       "        vertical-align: middle;\n",
       "    }\n",
       "\n",
       "    .dataframe tbody tr th {\n",
       "        vertical-align: top;\n",
       "    }\n",
       "\n",
       "    .dataframe thead th {\n",
       "        text-align: right;\n",
       "    }\n",
       "</style>\n",
       "<table border=\"1\" class=\"dataframe\">\n",
       "  <thead>\n",
       "    <tr style=\"text-align: right;\">\n",
       "      <th></th>\n",
       "      <th>sum_sq</th>\n",
       "      <th>df</th>\n",
       "      <th>F</th>\n",
       "      <th>PR(&gt;F)</th>\n",
       "    </tr>\n",
       "  </thead>\n",
       "  <tbody>\n",
       "    <tr>\n",
       "      <th>fat_100g</th>\n",
       "      <td>2894.582820</td>\n",
       "      <td>1.0</td>\n",
       "      <td>35.516831</td>\n",
       "      <td>2.739533e-09</td>\n",
       "    </tr>\n",
       "    <tr>\n",
       "      <th>Residual</th>\n",
       "      <td>336671.977423</td>\n",
       "      <td>4131.0</td>\n",
       "      <td>NaN</td>\n",
       "      <td>NaN</td>\n",
       "    </tr>\n",
       "  </tbody>\n",
       "</table>\n",
       "</div>"
      ],
      "text/plain": [
       "                 sum_sq      df          F        PR(>F)\n",
       "fat_100g    2894.582820     1.0  35.516831  2.739533e-09\n",
       "Residual  336671.977423  4131.0        NaN           NaN"
      ]
     },
     "execution_count": 83,
     "metadata": {},
     "output_type": "execute_result"
    }
   ],
   "source": [
    "#test ANOVA des variables quantitatives\n",
    "model = ols('proteins_100g ~ fat_100g', data=dff).fit()\n",
    "aov_table = sm.stats.anova_lm(model, typ=2)\n",
    "aov_table"
   ]
  },
  {
   "cell_type": "code",
   "execution_count": 84,
   "id": "d44d34e6",
   "metadata": {},
   "outputs": [
    {
     "data": {
      "text/html": [
       "<div>\n",
       "<style scoped>\n",
       "    .dataframe tbody tr th:only-of-type {\n",
       "        vertical-align: middle;\n",
       "    }\n",
       "\n",
       "    .dataframe tbody tr th {\n",
       "        vertical-align: top;\n",
       "    }\n",
       "\n",
       "    .dataframe thead th {\n",
       "        text-align: right;\n",
       "    }\n",
       "</style>\n",
       "<table border=\"1\" class=\"dataframe\">\n",
       "  <thead>\n",
       "    <tr style=\"text-align: right;\">\n",
       "      <th></th>\n",
       "      <th>sum_sq</th>\n",
       "      <th>df</th>\n",
       "      <th>F</th>\n",
       "      <th>PR(&gt;F)</th>\n",
       "    </tr>\n",
       "  </thead>\n",
       "  <tbody>\n",
       "    <tr>\n",
       "      <th>rating_f</th>\n",
       "      <td>6928.004773</td>\n",
       "      <td>2.0</td>\n",
       "      <td>43.008634</td>\n",
       "      <td>3.261670e-19</td>\n",
       "    </tr>\n",
       "    <tr>\n",
       "      <th>Residual</th>\n",
       "      <td>332638.555469</td>\n",
       "      <td>4130.0</td>\n",
       "      <td>NaN</td>\n",
       "      <td>NaN</td>\n",
       "    </tr>\n",
       "  </tbody>\n",
       "</table>\n",
       "</div>"
      ],
      "text/plain": [
       "                 sum_sq      df          F        PR(>F)\n",
       "rating_f    6928.004773     2.0  43.008634  3.261670e-19\n",
       "Residual  332638.555469  4130.0        NaN           NaN"
      ]
     },
     "execution_count": 84,
     "metadata": {},
     "output_type": "execute_result"
    }
   ],
   "source": [
    "#test ANOVA des variables quantitative vs qualitative\n",
    "model = ols('proteins_100g ~ rating_f', data=dff).fit()\n",
    "aov_table = sm.stats.anova_lm(model, typ=2)\n",
    "aov_table"
   ]
  },
  {
   "cell_type": "code",
   "execution_count": 85,
   "id": "1477db03",
   "metadata": {},
   "outputs": [
    {
     "data": {
      "text/html": [
       "<div>\n",
       "<style scoped>\n",
       "    .dataframe tbody tr th:only-of-type {\n",
       "        vertical-align: middle;\n",
       "    }\n",
       "\n",
       "    .dataframe tbody tr th {\n",
       "        vertical-align: top;\n",
       "    }\n",
       "\n",
       "    .dataframe thead th {\n",
       "        text-align: right;\n",
       "    }\n",
       "</style>\n",
       "<table border=\"1\" class=\"dataframe\">\n",
       "  <thead>\n",
       "    <tr style=\"text-align: right;\">\n",
       "      <th></th>\n",
       "      <th>sum_sq</th>\n",
       "      <th>df</th>\n",
       "      <th>F</th>\n",
       "      <th>PR(&gt;F)</th>\n",
       "    </tr>\n",
       "  </thead>\n",
       "  <tbody>\n",
       "    <tr>\n",
       "      <th>rating_p</th>\n",
       "      <td>41628.069670</td>\n",
       "      <td>2.0</td>\n",
       "      <td>112.969882</td>\n",
       "      <td>1.709245e-48</td>\n",
       "    </tr>\n",
       "    <tr>\n",
       "      <th>Residual</th>\n",
       "      <td>760928.152256</td>\n",
       "      <td>4130.0</td>\n",
       "      <td>NaN</td>\n",
       "      <td>NaN</td>\n",
       "    </tr>\n",
       "  </tbody>\n",
       "</table>\n",
       "</div>"
      ],
      "text/plain": [
       "                 sum_sq      df           F        PR(>F)\n",
       "rating_p   41628.069670     2.0  112.969882  1.709245e-48\n",
       "Residual  760928.152256  4130.0         NaN           NaN"
      ]
     },
     "execution_count": 85,
     "metadata": {},
     "output_type": "execute_result"
    }
   ],
   "source": [
    "#test ANOVA des variables quantitative vs qualitative\n",
    "model = ols('fat_100g ~ rating_p', data=dff).fit()\n",
    "aov_table = sm.stats.anova_lm(model, typ=2)\n",
    "aov_table"
   ]
  },
  {
   "cell_type": "code",
   "execution_count": 86,
   "id": "2f042d1b",
   "metadata": {},
   "outputs": [
    {
     "data": {
      "text/html": [
       "<div>\n",
       "<style scoped>\n",
       "    .dataframe tbody tr th:only-of-type {\n",
       "        vertical-align: middle;\n",
       "    }\n",
       "\n",
       "    .dataframe tbody tr th {\n",
       "        vertical-align: top;\n",
       "    }\n",
       "\n",
       "    .dataframe thead th {\n",
       "        text-align: right;\n",
       "    }\n",
       "</style>\n",
       "<table border=\"1\" class=\"dataframe\">\n",
       "  <thead>\n",
       "    <tr style=\"text-align: right;\">\n",
       "      <th></th>\n",
       "      <th>Variable</th>\n",
       "      <th>Outcome</th>\n",
       "      <th>Count</th>\n",
       "      <th>Percent</th>\n",
       "    </tr>\n",
       "  </thead>\n",
       "  <tbody>\n",
       "    <tr>\n",
       "      <th>0</th>\n",
       "      <td>rating_p</td>\n",
       "      <td>low</td>\n",
       "      <td>2635</td>\n",
       "      <td>63.76</td>\n",
       "    </tr>\n",
       "    <tr>\n",
       "      <th>1</th>\n",
       "      <td></td>\n",
       "      <td>middle</td>\n",
       "      <td>1448</td>\n",
       "      <td>35.04</td>\n",
       "    </tr>\n",
       "    <tr>\n",
       "      <th>2</th>\n",
       "      <td></td>\n",
       "      <td>high</td>\n",
       "      <td>50</td>\n",
       "      <td>1.21</td>\n",
       "    </tr>\n",
       "    <tr>\n",
       "      <th>3</th>\n",
       "      <td>rating_f</td>\n",
       "      <td>high</td>\n",
       "      <td>1723</td>\n",
       "      <td>41.69</td>\n",
       "    </tr>\n",
       "    <tr>\n",
       "      <th>4</th>\n",
       "      <td></td>\n",
       "      <td>middle</td>\n",
       "      <td>1480</td>\n",
       "      <td>35.81</td>\n",
       "    </tr>\n",
       "    <tr>\n",
       "      <th>5</th>\n",
       "      <td></td>\n",
       "      <td>low</td>\n",
       "      <td>930</td>\n",
       "      <td>22.50</td>\n",
       "    </tr>\n",
       "  </tbody>\n",
       "</table>\n",
       "</div>"
      ],
      "text/plain": [
       "   Variable Outcome  Count  Percent\n",
       "0  rating_p     low   2635    63.76\n",
       "1            middle   1448    35.04\n",
       "2              high     50     1.21\n",
       "3  rating_f    high   1723    41.69\n",
       "4            middle   1480    35.81\n",
       "5               low    930    22.50"
      ]
     },
     "execution_count": 86,
     "metadata": {},
     "output_type": "execute_result"
    }
   ],
   "source": [
    "#categorisation des variables\n",
    "\n",
    "rp.summary_cat(dff[[\"rating_p\", \"rating_f\"]])"
   ]
  },
  {
   "cell_type": "code",
   "execution_count": 87,
   "id": "d14d989f",
   "metadata": {
    "scrolled": true
   },
   "outputs": [
    {
     "data": {
      "text/html": [
       "<div>\n",
       "<style scoped>\n",
       "    .dataframe tbody tr th:only-of-type {\n",
       "        vertical-align: middle;\n",
       "    }\n",
       "\n",
       "    .dataframe tbody tr th {\n",
       "        vertical-align: top;\n",
       "    }\n",
       "\n",
       "    .dataframe thead th {\n",
       "        text-align: right;\n",
       "    }\n",
       "</style>\n",
       "<table border=\"1\" class=\"dataframe\">\n",
       "  <thead>\n",
       "    <tr style=\"text-align: right;\">\n",
       "      <th>rating_f</th>\n",
       "      <th>high</th>\n",
       "      <th>low</th>\n",
       "      <th>middle</th>\n",
       "    </tr>\n",
       "    <tr>\n",
       "      <th>rating_p</th>\n",
       "      <th></th>\n",
       "      <th></th>\n",
       "      <th></th>\n",
       "    </tr>\n",
       "  </thead>\n",
       "  <tbody>\n",
       "    <tr>\n",
       "      <th>high</th>\n",
       "      <td>1</td>\n",
       "      <td>37</td>\n",
       "      <td>12</td>\n",
       "    </tr>\n",
       "    <tr>\n",
       "      <th>low</th>\n",
       "      <td>898</td>\n",
       "      <td>598</td>\n",
       "      <td>1139</td>\n",
       "    </tr>\n",
       "    <tr>\n",
       "      <th>middle</th>\n",
       "      <td>824</td>\n",
       "      <td>295</td>\n",
       "      <td>329</td>\n",
       "    </tr>\n",
       "  </tbody>\n",
       "</table>\n",
       "</div>"
      ],
      "text/plain": [
       "rating_f  high  low  middle\n",
       "rating_p                   \n",
       "high         1   37      12\n",
       "low        898  598    1139\n",
       "middle     824  295     329"
      ]
     },
     "execution_count": 87,
     "metadata": {},
     "output_type": "execute_result"
    }
   ],
   "source": [
    "#creation d'une crosstable categories de concentration en proteines VS categories de concentration en matiere grasse\n",
    "\n",
    "crosstab = pd.crosstab(dff[\"rating_p\"], dff[\"rating_f\"])\n",
    "\n",
    " \n",
    "\n",
    "crosstab"
   ]
  },
  {
   "cell_type": "code",
   "execution_count": 88,
   "id": "5cb4b082",
   "metadata": {},
   "outputs": [
    {
     "data": {
      "text/plain": [
       "(309.49954365797765,\n",
       " 9.670644931570018e-66,\n",
       " 4,\n",
       " array([[  20.84442294,   11.25090733,   17.90466973],\n",
       "        [1098.5010888 ,  592.92281636,  943.57609485],\n",
       "        [ 603.65448827,  325.82627631,  518.51923542]]))"
      ]
     },
     "execution_count": 88,
     "metadata": {},
     "output_type": "execute_result"
    }
   ],
   "source": [
    "#Test du khi2\n",
    "\n",
    "stats.chi2_contingency(crosstab)\n",
    "\n",
    "#p<0.05>>>> On peut rejeter H0 et dire qu'il existe une association statistiquement significative entre les variables.\n",
    "\n",
    " "
   ]
  },
  {
   "cell_type": "code",
   "execution_count": 89,
   "id": "edd4032c",
   "metadata": {},
   "outputs": [
    {
     "data": {
      "text/html": [
       "<div>\n",
       "<style scoped>\n",
       "    .dataframe tbody tr th:only-of-type {\n",
       "        vertical-align: middle;\n",
       "    }\n",
       "\n",
       "    .dataframe tbody tr th {\n",
       "        vertical-align: top;\n",
       "    }\n",
       "\n",
       "    .dataframe thead tr th {\n",
       "        text-align: left;\n",
       "    }\n",
       "\n",
       "    .dataframe thead tr:last-of-type th {\n",
       "        text-align: right;\n",
       "    }\n",
       "</style>\n",
       "<table border=\"1\" class=\"dataframe\">\n",
       "  <thead>\n",
       "    <tr>\n",
       "      <th></th>\n",
       "      <th colspan=\"4\" halign=\"left\">rating_f</th>\n",
       "    </tr>\n",
       "    <tr>\n",
       "      <th>rating_f</th>\n",
       "      <th>high</th>\n",
       "      <th>low</th>\n",
       "      <th>middle</th>\n",
       "      <th>All</th>\n",
       "    </tr>\n",
       "    <tr>\n",
       "      <th>rating_p</th>\n",
       "      <th></th>\n",
       "      <th></th>\n",
       "      <th></th>\n",
       "      <th></th>\n",
       "    </tr>\n",
       "  </thead>\n",
       "  <tbody>\n",
       "    <tr>\n",
       "      <th>high</th>\n",
       "      <td>0.02</td>\n",
       "      <td>0.90</td>\n",
       "      <td>0.29</td>\n",
       "      <td>1.21</td>\n",
       "    </tr>\n",
       "    <tr>\n",
       "      <th>low</th>\n",
       "      <td>21.73</td>\n",
       "      <td>14.47</td>\n",
       "      <td>27.56</td>\n",
       "      <td>63.76</td>\n",
       "    </tr>\n",
       "    <tr>\n",
       "      <th>middle</th>\n",
       "      <td>19.94</td>\n",
       "      <td>7.14</td>\n",
       "      <td>7.96</td>\n",
       "      <td>35.04</td>\n",
       "    </tr>\n",
       "    <tr>\n",
       "      <th>All</th>\n",
       "      <td>41.69</td>\n",
       "      <td>22.50</td>\n",
       "      <td>35.81</td>\n",
       "      <td>100.00</td>\n",
       "    </tr>\n",
       "  </tbody>\n",
       "</table>\n",
       "</div>"
      ],
      "text/plain": [
       "         rating_f                      \n",
       "rating_f     high    low middle     All\n",
       "rating_p                               \n",
       "high         0.02   0.90   0.29    1.21\n",
       "low         21.73  14.47  27.56   63.76\n",
       "middle      19.94   7.14   7.96   35.04\n",
       "All         41.69  22.50  35.81  100.00"
      ]
     },
     "execution_count": 89,
     "metadata": {},
     "output_type": "execute_result"
    }
   ],
   "source": [
    "#test du khi2 avec specification de la force de la relation entre les variables donnée par la Cramer's V\n",
    "\n",
    "crosstab, test_results, expected = rp.crosstab(dff[\"rating_p\"], dff[\"rating_f\"],\n",
    "\n",
    "                                               test= \"chi-square\",\n",
    "\n",
    "                                               expected_freqs= True,\n",
    "\n",
    "                                               prop= \"cell\")\n",
    "\n",
    " \n",
    "\n",
    "crosstab"
   ]
  },
  {
   "cell_type": "code",
   "execution_count": 90,
   "id": "7debdffd",
   "metadata": {},
   "outputs": [
    {
     "data": {
      "text/html": [
       "<div>\n",
       "<style scoped>\n",
       "    .dataframe tbody tr th:only-of-type {\n",
       "        vertical-align: middle;\n",
       "    }\n",
       "\n",
       "    .dataframe tbody tr th {\n",
       "        vertical-align: top;\n",
       "    }\n",
       "\n",
       "    .dataframe thead th {\n",
       "        text-align: right;\n",
       "    }\n",
       "</style>\n",
       "<table border=\"1\" class=\"dataframe\">\n",
       "  <thead>\n",
       "    <tr style=\"text-align: right;\">\n",
       "      <th></th>\n",
       "      <th>Chi-square test</th>\n",
       "      <th>results</th>\n",
       "    </tr>\n",
       "  </thead>\n",
       "  <tbody>\n",
       "    <tr>\n",
       "      <th>0</th>\n",
       "      <td>Pearson Chi-square ( 4.0) =</td>\n",
       "      <td>309.4995</td>\n",
       "    </tr>\n",
       "    <tr>\n",
       "      <th>1</th>\n",
       "      <td>p-value =</td>\n",
       "      <td>0.0000</td>\n",
       "    </tr>\n",
       "    <tr>\n",
       "      <th>2</th>\n",
       "      <td>Cramer's V =</td>\n",
       "      <td>0.1935</td>\n",
       "    </tr>\n",
       "  </tbody>\n",
       "</table>\n",
       "</div>"
      ],
      "text/plain": [
       "                Chi-square test   results\n",
       "0  Pearson Chi-square ( 4.0) =   309.4995\n",
       "1                    p-value =     0.0000\n",
       "2                 Cramer's V =     0.1935"
      ]
     },
     "execution_count": 90,
     "metadata": {},
     "output_type": "execute_result"
    }
   ],
   "source": [
    "#résultats du khi2 avec Cramer's V\n",
    "\n",
    "test_results"
   ]
  },
  {
   "cell_type": "code",
   "execution_count": null,
   "id": "554cabfb",
   "metadata": {},
   "outputs": [
    {
     "name": "stdout",
     "output_type": "stream",
     "text": [
      "entrez le regime de prise de masse grasse entre: perte de graisse, consommation normale, prise de graisse\n"
     ]
    }
   ],
   "source": [
    "#input de la modalité regime en matiere grasse pour ne laisser que les produits avec la fourchette de concentration en matiere grasse souhaitée\n",
    "print('entrez le regime de prise de masse grasse entre: perte de graisse, consommation normale, prise de graisse')\n",
    "regime = input()\n",
    "\n",
    "#verifier que le input soit correct\n",
    "while regime not in('perte de graisse', 'consommation normale', 'prise de graisse'):\n",
    "    print('erreur: choisissez entre: perte de graisse, consommation normale, prise de graisse')\n",
    "    regime = input()\n",
    " \n",
    "#recategorisation des concentration en matiere grasse en fonction des objects physiques du praticien\n",
    "if regime == 'perte de graisse':\n",
    "    dfff = dff.loc[dff['fat_100g'] <= 5]\n",
    "elif regime == 'prise de graisse':\n",
    "    dfff = dff.loc[dff['fat_100g'] > 20]\n",
    "else:\n",
    "    dfff = dff.loc[(dff['fat_100g'] <= 20) & (dff['fat_100g'] >5)]\n",
    "#verifier et donner quelques lignes pour faciliter le copier coller des produits pour l'application ci-dessous                   \n",
    "dfff.head()\n",
    " \n"
   ]
  },
  {
   "cell_type": "raw",
   "id": "54e08518",
   "metadata": {},
   "source": [
    "#input du poids en kg de praticien\n",
    "print('Quel est votre poids en kg?')\n",
    "poids = float(input())\n",
    "print(type(poids))\n",
    "\n",
    "#verifier que le input est correct\n",
    "while not float(poids):\n",
    "    print('Erreur: inscrivez votre poids en kg en utilisant uniquement des chiffres. Exemple: 45')\n",
    "    poids = float(input())\n",
    "    print(type(poids))\n",
    "\n",
    "#input de l'intensité de l'entrainement\n",
    "print('Choisissez votre intensité sportive entre sportif ou athlete')\n",
    "intensite = input() \n",
    "\n",
    "#verifier que le input est correct\n",
    "while intensite not in('sportif','athlete'):             \n",
    "    print('erreur: choisissez l\\intensite sportif ou athlete')\n",
    "    intensite = input()\n",
    "\n",
    "#valeur de pi selon l'intensite de l'entrainement suivie\n",
    "if intensite == str('sportif'):\n",
    "    pi = 1.5\n",
    "elif intensite == str('athlete'):\n",
    "    pi = 2\n",
    " \n",
    " \n",
    "#input du produit d'intéret\n",
    "print('Choisissez votre produit')\n",
    "prod = input()\n",
    "\n",
    "#verifier que le input est correct\n",
    "while prod not in(dff['product_name'].values):\n",
    "    print('Ce produit n\\'existe pas. Veuillez copier-coller un des produits sous la colonne product_name')\n",
    "    prod = input()\n",
    "    \n",
    "    \n",
    " #Calcul des grammes du produit d'intéret à consommer quotidiennement selon le poids et l'intensité des entrainements du praticiens en excluant tout autre apport alimentaire.\n",
    "pj = int(poids)*pi*100/dff.loc[dff['product_name'] == prod, 'proteins_100g']\n",
    "print('Vous devez consommer',round(pj,0).values,'g de ce produit par jour')\n"
   ]
  },
  {
   "cell_type": "code",
   "execution_count": null,
   "id": "d5ae74df",
   "metadata": {},
   "outputs": [],
   "source": []
  }
 ],
 "metadata": {
  "kernelspec": {
   "display_name": "Python 3",
   "language": "python",
   "name": "python3"
  },
  "language_info": {
   "codemirror_mode": {
    "name": "ipython",
    "version": 3
   },
   "file_extension": ".py",
   "mimetype": "text/x-python",
   "name": "python",
   "nbconvert_exporter": "python",
   "pygments_lexer": "ipython3",
   "version": "3.8.8"
  }
 },
 "nbformat": 4,
 "nbformat_minor": 5
}
